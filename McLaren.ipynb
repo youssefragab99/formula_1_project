{
 "cells": [
  {
   "cell_type": "markdown",
   "metadata": {},
   "source": [
    "# McLaren F1 \n",
    "\n",
    "### Taking a deep dive into the McLaren F1 team over the past 10 years. "
   ]
  },
  {
   "cell_type": "code",
   "execution_count": 2,
   "metadata": {},
   "outputs": [],
   "source": [
    "import os \n",
    "os.environ['SPARK_HOME'] = '/Users/youssefragab/spark-3.0.1-bin-hadoop3.2/'\n",
    "import findspark \n",
    "findspark.init()\n",
    "from pyspark import SparkContext\n",
    "from pyspark import HiveContext\n",
    "spark = SparkContext(appName = 'mclaren_f1')"
   ]
  },
  {
   "cell_type": "code",
   "execution_count": 3,
   "metadata": {},
   "outputs": [],
   "source": [
    "import numpy, matplotlib \n",
    "import matplotlib.pyplot as plt"
   ]
  },
  {
   "cell_type": "code",
   "execution_count": 4,
   "metadata": {},
   "outputs": [
    {
     "data": {
      "text/html": [
       "\n",
       "        <div>\n",
       "            <p><b>SparkContext</b></p>\n",
       "\n",
       "            <p><a href=\"http://10.198.1.93:4041\">Spark UI</a></p>\n",
       "\n",
       "            <dl>\n",
       "              <dt>Version</dt>\n",
       "                <dd><code>v3.0.1</code></dd>\n",
       "              <dt>Master</dt>\n",
       "                <dd><code>local[*]</code></dd>\n",
       "              <dt>AppName</dt>\n",
       "                <dd><code>mclaren_f1</code></dd>\n",
       "            </dl>\n",
       "        </div>\n",
       "        "
      ],
      "text/plain": [
       "<SparkContext master=local[*] appName=mclaren_f1>"
      ]
     },
     "execution_count": 4,
     "metadata": {},
     "output_type": "execute_result"
    }
   ],
   "source": [
    "spark"
   ]
  },
  {
   "cell_type": "code",
   "execution_count": 5,
   "metadata": {},
   "outputs": [],
   "source": [
    "from pyspark import SQLContext \n",
    "sqlc = HiveContext(spark)"
   ]
  },
  {
   "cell_type": "code",
   "execution_count": 6,
   "metadata": {},
   "outputs": [
    {
     "data": {
      "text/plain": [
       "<pyspark.sql.context.HiveContext at 0x7fb8afd260a0>"
      ]
     },
     "execution_count": 6,
     "metadata": {},
     "output_type": "execute_result"
    }
   ],
   "source": [
    "sqlc"
   ]
  },
  {
   "cell_type": "markdown",
   "metadata": {},
   "source": [
    "### Loading the data\n",
    "\n",
    "For this analysis, we are going to use a comprehensive dataset from Kaggle. It can be found at this link: \n",
    "https://www.kaggle.com/rohanrao/formula-1-world-championship-1950-2020?select=lap_times.csv"
   ]
  },
  {
   "cell_type": "code",
   "execution_count": 7,
   "metadata": {},
   "outputs": [
    {
     "name": "stdout",
     "output_type": "stream",
     "text": [
      "+---------+--------------+--------------------+------------+---------+--------+--------+---+--------------------+\n",
      "|circuitId|    circuitRef|                name|    location|  country|     lat|     lng|alt|                 url|\n",
      "+---------+--------------+--------------------+------------+---------+--------+--------+---+--------------------+\n",
      "|        1|   albert_park|Albert Park Grand...|   Melbourne|Australia|-37.8497| 144.968| 10|http://en.wikiped...|\n",
      "|        2|        sepang|Sepang Internatio...|Kuala Lumpur| Malaysia| 2.76083| 101.738| 18|http://en.wikiped...|\n",
      "|        3|       bahrain|Bahrain Internati...|      Sakhir|  Bahrain| 26.0325| 50.5106|  7|http://en.wikiped...|\n",
      "|        4|     catalunya|Circuit de Barcel...|    Montmeló|    Spain|   41.57| 2.26111|109|http://en.wikiped...|\n",
      "|        5|      istanbul|       Istanbul Park|    Istanbul|   Turkey| 40.9517|  29.405|130|http://en.wikiped...|\n",
      "|        6|        monaco|   Circuit de Monaco| Monte-Carlo|   Monaco| 43.7347| 7.42056|  7|http://en.wikiped...|\n",
      "|        7|    villeneuve|Circuit Gilles Vi...|    Montreal|   Canada|    45.5|-73.5228| 13|http://en.wikiped...|\n",
      "|        8|   magny_cours|Circuit de Nevers...| Magny Cours|   France| 46.8642| 3.16361|228|http://en.wikiped...|\n",
      "|        9|   silverstone| Silverstone Circuit| Silverstone|       UK| 52.0786|-1.01694|153|http://en.wikiped...|\n",
      "|       10|hockenheimring|      Hockenheimring|  Hockenheim|  Germany| 49.3278| 8.56583|103|http://en.wikiped...|\n",
      "+---------+--------------+--------------------+------------+---------+--------+--------+---+--------------------+\n",
      "only showing top 10 rows\n",
      "\n"
     ]
    }
   ],
   "source": [
    "circuits = sqlc.read.csv('circuits.csv', header = True, inferSchema = True)\n",
    "circuits.createOrReplaceTempView('circuits')\n",
    "\n",
    "circuits.show(10)"
   ]
  },
  {
   "cell_type": "code",
   "execution_count": 8,
   "metadata": {},
   "outputs": [
    {
     "name": "stdout",
     "output_type": "stream",
     "text": [
      "+--------------------+------+-------------+------+------+\n",
      "|constructorResultsId|raceId|constructorId|points|status|\n",
      "+--------------------+------+-------------+------+------+\n",
      "|                   1|    18|            1|  14.0|    \\N|\n",
      "|                   2|    18|            2|   8.0|    \\N|\n",
      "|                   3|    18|            3|   9.0|    \\N|\n",
      "|                   4|    18|            4|   5.0|    \\N|\n",
      "|                   5|    18|            5|   2.0|    \\N|\n",
      "|                   6|    18|            6|   1.0|    \\N|\n",
      "|                   7|    18|            7|   0.0|    \\N|\n",
      "|                   8|    18|            8|   0.0|    \\N|\n",
      "|                   9|    18|            9|   0.0|    \\N|\n",
      "|                  10|    18|           10|   0.0|    \\N|\n",
      "+--------------------+------+-------------+------+------+\n",
      "only showing top 10 rows\n",
      "\n"
     ]
    }
   ],
   "source": [
    "constructor_results = sqlc.read.csv('constructor_results.csv', header = True, inferSchema = True)\n",
    "constructor_results.createOrReplaceTempView('constructor_results')\n",
    "\n",
    "constructor_results.show(10)"
   ]
  },
  {
   "cell_type": "code",
   "execution_count": 9,
   "metadata": {},
   "outputs": [
    {
     "name": "stdout",
     "output_type": "stream",
     "text": [
      "+----------------------+------+-------------+------+--------+------------+----+\n",
      "|constructorStandingsId|raceId|constructorId|points|position|positionText|wins|\n",
      "+----------------------+------+-------------+------+--------+------------+----+\n",
      "|                     1|    18|            1|  14.0|       1|           1|   1|\n",
      "|                     2|    18|            2|   8.0|       3|           3|   0|\n",
      "|                     3|    18|            3|   9.0|       2|           2|   0|\n",
      "|                     4|    18|            4|   5.0|       4|           4|   0|\n",
      "|                     5|    18|            5|   2.0|       5|           5|   0|\n",
      "|                     6|    18|            6|   1.0|       6|           6|   0|\n",
      "|                     7|    19|            1|  24.0|       1|           1|   1|\n",
      "|                     8|    19|            2|  19.0|       2|           2|   0|\n",
      "|                     9|    19|            3|   9.0|       4|           4|   0|\n",
      "|                    10|    19|            4|   6.0|       5|           5|   0|\n",
      "+----------------------+------+-------------+------+--------+------------+----+\n",
      "only showing top 10 rows\n",
      "\n"
     ]
    }
   ],
   "source": [
    "constructor_standings = sqlc.read.csv('constructor_standings.csv', header = True, inferSchema = True)\n",
    "constructor_standings.createOrReplaceTempView('constructor_standings')\n",
    "\n",
    "constructor_standings.show(10)"
   ]
  },
  {
   "cell_type": "code",
   "execution_count": 10,
   "metadata": {},
   "outputs": [
    {
     "name": "stdout",
     "output_type": "stream",
     "text": [
      "+-------------+--------------+-----------+-----------+--------------------+\n",
      "|constructorId|constructorRef|       name|nationality|                 url|\n",
      "+-------------+--------------+-----------+-----------+--------------------+\n",
      "|            1|       mclaren|    McLaren|    British|http://en.wikiped...|\n",
      "|            2|    bmw_sauber| BMW Sauber|     German|http://en.wikiped...|\n",
      "|            3|      williams|   Williams|    British|http://en.wikiped...|\n",
      "|            4|       renault|    Renault|     French|http://en.wikiped...|\n",
      "|            5|    toro_rosso| Toro Rosso|    Italian|http://en.wikiped...|\n",
      "|            6|       ferrari|    Ferrari|    Italian|http://en.wikiped...|\n",
      "|            7|        toyota|     Toyota|   Japanese|http://en.wikiped...|\n",
      "|            8|   super_aguri|Super Aguri|   Japanese|http://en.wikiped...|\n",
      "|            9|      red_bull|   Red Bull|   Austrian|http://en.wikiped...|\n",
      "|           10|   force_india|Force India|     Indian|http://en.wikiped...|\n",
      "+-------------+--------------+-----------+-----------+--------------------+\n",
      "only showing top 10 rows\n",
      "\n"
     ]
    }
   ],
   "source": [
    "constructors = sqlc.read.csv('constructors.csv', header = True, inferSchema = True)\n",
    "constructors.createOrReplaceTempView('constructors')\n",
    "\n",
    "constructors.show(10)"
   ]
  },
  {
   "cell_type": "code",
   "execution_count": 11,
   "metadata": {},
   "outputs": [
    {
     "name": "stdout",
     "output_type": "stream",
     "text": [
      "+-----------------+------+--------+------+--------+------------+----+\n",
      "|driverStandingsId|raceId|driverId|points|position|positionText|wins|\n",
      "+-----------------+------+--------+------+--------+------------+----+\n",
      "|                1|    18|       1|  10.0|       1|           1|   1|\n",
      "|                2|    18|       2|   8.0|       2|           2|   0|\n",
      "|                3|    18|       3|   6.0|       3|           3|   0|\n",
      "|                4|    18|       4|   5.0|       4|           4|   0|\n",
      "|                5|    18|       5|   4.0|       5|           5|   0|\n",
      "|                6|    18|       6|   3.0|       6|           6|   0|\n",
      "|                7|    18|       7|   2.0|       7|           7|   0|\n",
      "|                8|    18|       8|   1.0|       8|           8|   0|\n",
      "|                9|    19|       1|  14.0|       1|           1|   1|\n",
      "|               10|    19|       2|  11.0|       3|           3|   0|\n",
      "+-----------------+------+--------+------+--------+------------+----+\n",
      "only showing top 10 rows\n",
      "\n"
     ]
    }
   ],
   "source": [
    "driver_standings = sqlc.read.csv('driver_standings.csv', header = True, inferSchema = True)\n",
    "driver_standings.createOrReplaceTempView('driver_standings')\n",
    "\n",
    "driver_standings.show(10)"
   ]
  },
  {
   "cell_type": "code",
   "execution_count": 12,
   "metadata": {},
   "outputs": [
    {
     "name": "stdout",
     "output_type": "stream",
     "text": [
      "+--------+----------+------+----+---------+----------+----------+-----------+--------------------+\n",
      "|driverId| driverRef|number|code| forename|   surname|       dob|nationality|                 url|\n",
      "+--------+----------+------+----+---------+----------+----------+-----------+--------------------+\n",
      "|       1|  hamilton|    44| HAM|    Lewis|  Hamilton|1985-01-07|    British|http://en.wikiped...|\n",
      "|       2|  heidfeld|    \\N| HEI|     Nick|  Heidfeld|1977-05-10|     German|http://en.wikiped...|\n",
      "|       3|   rosberg|     6| ROS|     Nico|   Rosberg|1985-06-27|     German|http://en.wikiped...|\n",
      "|       4|    alonso|    14| ALO| Fernando|    Alonso|1981-07-29|    Spanish|http://en.wikiped...|\n",
      "|       5|kovalainen|    \\N| KOV|   Heikki|Kovalainen|1981-10-19|    Finnish|http://en.wikiped...|\n",
      "|       6|  nakajima|    \\N| NAK|   Kazuki|  Nakajima|1985-01-11|   Japanese|http://en.wikiped...|\n",
      "|       7|  bourdais|    \\N| BOU|Sébastien|  Bourdais|1979-02-28|     French|http://en.wikiped...|\n",
      "|       8| raikkonen|     7| RAI|     Kimi| Räikkönen|1979-10-17|    Finnish|http://en.wikiped...|\n",
      "|       9|    kubica|    88| KUB|   Robert|    Kubica|1984-12-07|     Polish|http://en.wikiped...|\n",
      "|      10|     glock|    \\N| GLO|     Timo|     Glock|1982-03-18|     German|http://en.wikiped...|\n",
      "+--------+----------+------+----+---------+----------+----------+-----------+--------------------+\n",
      "only showing top 10 rows\n",
      "\n"
     ]
    }
   ],
   "source": [
    "drivers = sqlc.read.csv('drivers.csv', header = True, inferSchema = True)\n",
    "drivers.createOrReplaceTempView('drivers')\n",
    "\n",
    "drivers.show(10)"
   ]
  },
  {
   "cell_type": "code",
   "execution_count": 13,
   "metadata": {},
   "outputs": [
    {
     "name": "stdout",
     "output_type": "stream",
     "text": [
      "+------+--------+---+--------+--------+------------+\n",
      "|raceId|driverId|lap|position|    time|milliseconds|\n",
      "+------+--------+---+--------+--------+------------+\n",
      "|   841|      20|  1|       1|1:38.109|       98109|\n",
      "|   841|      20|  2|       1|1:33.006|       93006|\n",
      "|   841|      20|  3|       1|1:32.713|       92713|\n",
      "|   841|      20|  4|       1|1:32.803|       92803|\n",
      "|   841|      20|  5|       1|1:32.342|       92342|\n",
      "|   841|      20|  6|       1|1:32.605|       92605|\n",
      "|   841|      20|  7|       1|1:32.502|       92502|\n",
      "|   841|      20|  8|       1|1:32.537|       92537|\n",
      "|   841|      20|  9|       1|1:33.240|       93240|\n",
      "|   841|      20| 10|       1|1:32.572|       92572|\n",
      "+------+--------+---+--------+--------+------------+\n",
      "only showing top 10 rows\n",
      "\n"
     ]
    }
   ],
   "source": [
    "lap_times = sqlc.read.csv('lap_times.csv', header = True, inferSchema = True)\n",
    "lap_times.createOrReplaceTempView('lap_times')\n",
    "\n",
    "lap_times.show(10)"
   ]
  },
  {
   "cell_type": "code",
   "execution_count": 14,
   "metadata": {},
   "outputs": [
    {
     "name": "stdout",
     "output_type": "stream",
     "text": [
      "+------+--------+----+---+--------+--------+------------+\n",
      "|raceId|driverId|stop|lap|    time|duration|milliseconds|\n",
      "+------+--------+----+---+--------+--------+------------+\n",
      "|   841|     153|   1|  1|17:05:23|  26.898|       26898|\n",
      "|   841|      30|   1|  1|17:05:52|  25.021|       25021|\n",
      "|   841|      17|   1| 11|17:20:48|  23.426|       23426|\n",
      "|   841|       4|   1| 12|17:22:34|  23.251|       23251|\n",
      "|   841|      13|   1| 13|17:24:10|  23.842|       23842|\n",
      "|   841|      22|   1| 13|17:24:29|  23.643|       23643|\n",
      "|   841|      20|   1| 14|17:25:17|  22.603|       22603|\n",
      "|   841|     814|   1| 14|17:26:03|  24.863|       24863|\n",
      "|   841|     816|   1| 14|17:26:50|  25.259|       25259|\n",
      "|   841|      67|   1| 15|17:27:34|  25.342|       25342|\n",
      "+------+--------+----+---+--------+--------+------------+\n",
      "only showing top 10 rows\n",
      "\n"
     ]
    }
   ],
   "source": [
    "pit_stops = sqlc.read.csv('pit_stops.csv', header = True, inferSchema = True)\n",
    "pit_stops.createOrReplaceTempView('pit_stops')\n",
    "\n",
    "pit_stops.show(10)"
   ]
  },
  {
   "cell_type": "code",
   "execution_count": 15,
   "metadata": {},
   "outputs": [
    {
     "name": "stdout",
     "output_type": "stream",
     "text": [
      "+---------+------+--------+-------------+------+--------+--------+--------+--------+\n",
      "|qualifyId|raceId|driverId|constructorId|number|position|      q1|      q2|      q3|\n",
      "+---------+------+--------+-------------+------+--------+--------+--------+--------+\n",
      "|        1|    18|       1|            1|    22|       1|1:26.572|1:25.187|1:26.714|\n",
      "|        2|    18|       9|            2|     4|       2|1:26.103|1:25.315|1:26.869|\n",
      "|        3|    18|       5|            1|    23|       3|1:25.664|1:25.452|1:27.079|\n",
      "|        4|    18|      13|            6|     2|       4|1:25.994|1:25.691|1:27.178|\n",
      "|        5|    18|       2|            2|     3|       5|1:25.960|1:25.518|1:27.236|\n",
      "|        6|    18|      15|            7|    11|       6|1:26.427|1:26.101|1:28.527|\n",
      "|        7|    18|       3|            3|     7|       7|1:26.295|1:26.059|1:28.687|\n",
      "|        8|    18|      14|            9|     9|       8|1:26.381|1:26.063|1:29.041|\n",
      "|        9|    18|      10|            7|    12|       9|1:26.919|1:26.164|1:29.593|\n",
      "|       10|    18|      20|            5|    15|      10|1:26.702|1:25.842|      \\N|\n",
      "+---------+------+--------+-------------+------+--------+--------+--------+--------+\n",
      "only showing top 10 rows\n",
      "\n"
     ]
    }
   ],
   "source": [
    "qualifying = sqlc.read.csv('qualifying.csv', header = True, inferSchema = True)\n",
    "qualifying.createOrReplaceTempView('qualifying')\n",
    "\n",
    "qualifying.show(10)"
   ]
  },
  {
   "cell_type": "code",
   "execution_count": 16,
   "metadata": {},
   "outputs": [
    {
     "name": "stdout",
     "output_type": "stream",
     "text": [
      "+------+----+-----+---------+--------------------+----------+--------+--------------------+\n",
      "|raceId|year|round|circuitId|                name|      date|    time|                 url|\n",
      "+------+----+-----+---------+--------------------+----------+--------+--------------------+\n",
      "|     1|2009|    1|        1|Australian Grand ...|2009-03-29|06:00:00|http://en.wikiped...|\n",
      "|     2|2009|    2|        2|Malaysian Grand Prix|2009-04-05|09:00:00|http://en.wikiped...|\n",
      "|     3|2009|    3|       17|  Chinese Grand Prix|2009-04-19|07:00:00|http://en.wikiped...|\n",
      "|     4|2009|    4|        3|  Bahrain Grand Prix|2009-04-26|12:00:00|http://en.wikiped...|\n",
      "|     5|2009|    5|        4|  Spanish Grand Prix|2009-05-10|12:00:00|http://en.wikiped...|\n",
      "|     6|2009|    6|        6|   Monaco Grand Prix|2009-05-24|12:00:00|http://en.wikiped...|\n",
      "|     7|2009|    7|        5|  Turkish Grand Prix|2009-06-07|12:00:00|http://en.wikiped...|\n",
      "|     8|2009|    8|        9|  British Grand Prix|2009-06-21|12:00:00|http://en.wikiped...|\n",
      "|     9|2009|    9|       20|   German Grand Prix|2009-07-12|12:00:00|http://en.wikiped...|\n",
      "|    10|2009|   10|       11|Hungarian Grand Prix|2009-07-26|12:00:00|http://en.wikiped...|\n",
      "+------+----+-----+---------+--------------------+----------+--------+--------------------+\n",
      "only showing top 10 rows\n",
      "\n"
     ]
    }
   ],
   "source": [
    "races = sqlc.read.csv('races.csv', header = True, inferSchema = True)\n",
    "races.createOrReplaceTempView('races')\n",
    "\n",
    "races.show(10)"
   ]
  },
  {
   "cell_type": "code",
   "execution_count": 17,
   "metadata": {},
   "outputs": [
    {
     "name": "stdout",
     "output_type": "stream",
     "text": [
      "+--------+------+--------+-------------+------+----+--------+------------+-------------+------+----+-----------+------------+----------+----+--------------+---------------+--------+\n",
      "|resultId|raceId|driverId|constructorId|number|grid|position|positionText|positionOrder|points|laps|       time|milliseconds|fastestLap|rank|fastestLapTime|fastestLapSpeed|statusId|\n",
      "+--------+------+--------+-------------+------+----+--------+------------+-------------+------+----+-----------+------------+----------+----+--------------+---------------+--------+\n",
      "|       1|    18|       1|            1|    22|   1|       1|           1|            1|  10.0|  58|1:34:50.616|     5690616|        39|   2|      1:27.452|        218.300|       1|\n",
      "|       2|    18|       2|            2|     3|   5|       2|           2|            2|   8.0|  58|     +5.478|     5696094|        41|   3|      1:27.739|        217.586|       1|\n",
      "|       3|    18|       3|            3|     7|   7|       3|           3|            3|   6.0|  58|     +8.163|     5698779|        41|   5|      1:28.090|        216.719|       1|\n",
      "|       4|    18|       4|            4|     5|  11|       4|           4|            4|   5.0|  58|    +17.181|     5707797|        58|   7|      1:28.603|        215.464|       1|\n",
      "|       5|    18|       5|            1|    23|   3|       5|           5|            5|   4.0|  58|    +18.014|     5708630|        43|   1|      1:27.418|        218.385|       1|\n",
      "|       6|    18|       6|            3|     8|  13|       6|           6|            6|   3.0|  57|         \\N|          \\N|        50|  14|      1:29.639|        212.974|      11|\n",
      "|       7|    18|       7|            5|    14|  17|       7|           7|            7|   2.0|  55|         \\N|          \\N|        22|  12|      1:29.534|        213.224|       5|\n",
      "|       8|    18|       8|            6|     1|  15|       8|           8|            8|   1.0|  53|         \\N|          \\N|        20|   4|      1:27.903|        217.180|       5|\n",
      "|       9|    18|       9|            2|     4|   2|      \\N|           R|            9|   0.0|  47|         \\N|          \\N|        15|   9|      1:28.753|        215.100|       4|\n",
      "|      10|    18|      10|            7|    12|  18|      \\N|           R|           10|   0.0|  43|         \\N|          \\N|        23|  13|      1:29.558|        213.166|       3|\n",
      "+--------+------+--------+-------------+------+----+--------+------------+-------------+------+----+-----------+------------+----------+----+--------------+---------------+--------+\n",
      "only showing top 10 rows\n",
      "\n"
     ]
    }
   ],
   "source": [
    "results = sqlc.read.csv('results.csv', header = True, inferSchema = True)\n",
    "results.createOrReplaceTempView('results')\n",
    "\n",
    "results.show(10)"
   ]
  },
  {
   "cell_type": "code",
   "execution_count": 18,
   "metadata": {},
   "outputs": [
    {
     "name": "stdout",
     "output_type": "stream",
     "text": [
      "+----+--------------------+\n",
      "|year|                 url|\n",
      "+----+--------------------+\n",
      "|2009|https://en.wikipe...|\n",
      "|2008|https://en.wikipe...|\n",
      "|2007|https://en.wikipe...|\n",
      "|2006|https://en.wikipe...|\n",
      "|2005|https://en.wikipe...|\n",
      "|2004|https://en.wikipe...|\n",
      "|2003|https://en.wikipe...|\n",
      "|2002|https://en.wikipe...|\n",
      "|2001|https://en.wikipe...|\n",
      "|2000|https://en.wikipe...|\n",
      "+----+--------------------+\n",
      "only showing top 10 rows\n",
      "\n"
     ]
    }
   ],
   "source": [
    "seasons = sqlc.read.csv('seasons.csv', header = True, inferSchema = True)\n",
    "seasons.createOrReplaceTempView('seasons')\n",
    "\n",
    "seasons.show(10)"
   ]
  },
  {
   "cell_type": "code",
   "execution_count": 19,
   "metadata": {},
   "outputs": [
    {
     "name": "stdout",
     "output_type": "stream",
     "text": [
      "+--------+------------+\n",
      "|statusId|      status|\n",
      "+--------+------------+\n",
      "|       1|    Finished|\n",
      "|       2|Disqualified|\n",
      "|       3|    Accident|\n",
      "|       4|   Collision|\n",
      "|       5|      Engine|\n",
      "|       6|     Gearbox|\n",
      "|       7|Transmission|\n",
      "|       8|      Clutch|\n",
      "|       9|  Hydraulics|\n",
      "|      10|  Electrical|\n",
      "+--------+------------+\n",
      "only showing top 10 rows\n",
      "\n"
     ]
    }
   ],
   "source": [
    "status = sqlc.read.csv('status.csv', header = True, inferSchema = True)\n",
    "status.createOrReplaceTempView('status')\n",
    "\n",
    "status.show(10)"
   ]
  },
  {
   "cell_type": "markdown",
   "metadata": {},
   "source": [
    "### McLaren recent historic performances \n",
    "\n",
    "We are going to look at the last 12 year's of McLaren's history, 2008 is the last year they won the driver's championship with Lewis Hamilton. Since then, McLaren has gone down the rankings as a constructor, but have in recent years been on a meteoric rise, we are going to see what happened, and where they can go from here. \n",
    "\n",
    "#### Constructor's standings"
   ]
  },
  {
   "cell_type": "code",
   "execution_count": 23,
   "metadata": {},
   "outputs": [
    {
     "data": {
      "text/plain": [
       "<AxesSubplot:xlabel='year'>"
      ]
     },
     "execution_count": 23,
     "metadata": {},
     "output_type": "execute_result"
    },
    {
     "data": {
      "image/png": "[encoded data removed]",
      "text/plain": [
       "<Figure size 432x288 with 1 Axes>"
      ]
     },
     "metadata": {
      "needs_background": "light"
     },
     "output_type": "display_data"
    }
   ],
   "source": [
    "mcl_points = sqlc.sql(\"\"\"\n",
    "    SELECT sum(constructor_results.points) AS points, races.year\n",
    "    FROM constructor_results, races\n",
    "    WHERE constructorId == 1\n",
    "        AND races.raceId == constructor_results.raceId\n",
    "        AND races.year >= 2008\n",
    "    GROUP BY races.year\n",
    "    ORDER BY races.year ASC\n",
    "\"\"\")\n",
    "\n",
    "mcl_points.toPandas() \\\n",
    "    .plot \\\n",
    "    .bar(x = 'year',\n",
    "             y = 'points')"
   ]
  },
  {
   "cell_type": "markdown",
   "metadata": {},
   "source": [
    "It's important to note that point awarding changed after 2010, whcih is why we see a very big uptick in the number of points McLaren has scored since. However, we do see a big dip in number of point scored, which has started going back up in the past 3 seasons. The 2021 season is still underway, but we can clearly see that McLaren has already outscored 5 of their past 9 seasons. "
   ]
  },
  {
   "cell_type": "code",
   "execution_count": 25,
   "metadata": {},
   "outputs": [
    {
     "name": "stdout",
     "output_type": "stream",
     "text": [
      "+------+-----------+----+\n",
      "|points|       name|year|\n",
      "+------+-----------+----+\n",
      "| 498.0|   Red Bull|2010|\n",
      "| 454.0|    McLaren|2010|\n",
      "| 396.0|    Ferrari|2010|\n",
      "| 214.0|   Mercedes|2010|\n",
      "| 163.0|    Renault|2010|\n",
      "|  69.0|   Williams|2010|\n",
      "|  68.0|Force India|2010|\n",
      "|  44.0|     Sauber|2010|\n",
      "|  13.0| Toro Rosso|2010|\n",
      "|   0.0|      Lotus|2010|\n",
      "|   0.0|        HRT|2010|\n",
      "|   0.0|     Virgin|2010|\n",
      "| 650.0|   Red Bull|2011|\n",
      "| 497.0|    McLaren|2011|\n",
      "| 375.0|    Ferrari|2011|\n",
      "| 165.0|   Mercedes|2011|\n",
      "|  73.0|    Renault|2011|\n",
      "|  69.0|Force India|2011|\n",
      "|  44.0|     Sauber|2011|\n",
      "|  41.0| Toro Rosso|2011|\n",
      "+------+-----------+----+\n",
      "only showing top 20 rows\n",
      "\n"
     ]
    }
   ],
   "source": [
    "sqlc.sql(\"\"\"\n",
    "    SELECT sum(constructor_results.points) AS points, constructors.name, races.year\n",
    "    FROM constructor_results, races, constructors\n",
    "    WHERE constructor_results.constructorId == constructors.constructorId\n",
    "        AND races.raceId == constructor_results.raceId\n",
    "        AND races.year >= 2010\n",
    "    GROUP BY constructors.name, races.year\n",
    "    ORDER BY races.year ASC,  points DESC\n",
    "\"\"\").show()"
   ]
  },
  {
   "cell_type": "markdown",
   "metadata": {},
   "source": [
    "## Pit crew performance \n",
    "\n",
    "We can also take a look at how well the team's pit crew was performing over that period. We know that pit stops are an integral part of the race, so it is important to investigate every avenue when looking at where the performance dipped. "
   ]
  },
  {
   "cell_type": "code",
   "execution_count": 26,
   "metadata": {},
   "outputs": [
    {
     "name": "stdout",
     "output_type": "stream",
     "text": [
      "+------+--------+----+---+--------+--------+------------+\n",
      "|raceId|driverId|stop|lap|    time|duration|milliseconds|\n",
      "+------+--------+----+---+--------+--------+------------+\n",
      "|   841|     153|   1|  1|17:05:23|  26.898|       26898|\n",
      "|   841|      30|   1|  1|17:05:52|  25.021|       25021|\n",
      "|   841|      17|   1| 11|17:20:48|  23.426|       23426|\n",
      "|   841|       4|   1| 12|17:22:34|  23.251|       23251|\n",
      "|   841|      13|   1| 13|17:24:10|  23.842|       23842|\n",
      "|   841|      22|   1| 13|17:24:29|  23.643|       23643|\n",
      "|   841|      20|   1| 14|17:25:17|  22.603|       22603|\n",
      "|   841|     814|   1| 14|17:26:03|  24.863|       24863|\n",
      "|   841|     816|   1| 14|17:26:50|  25.259|       25259|\n",
      "|   841|      67|   1| 15|17:27:34|  25.342|       25342|\n",
      "|   841|       2|   1| 15|17:27:41|  22.994|       22994|\n",
      "|   841|       1|   1| 16|17:28:24|  23.227|       23227|\n",
      "|   841|     808|   1| 16|17:28:39|  24.535|       24535|\n",
      "|   841|       3|   1| 16|17:29:00|  23.716|       23716|\n",
      "|   841|     155|   1| 16|17:29:06|  24.064|       24064|\n",
      "|   841|      16|   1| 16|17:29:08|  25.978|       25978|\n",
      "|   841|      15|   1| 16|17:29:49|  24.899|       24899|\n",
      "|   841|      18|   1| 17|17:30:24|  16.867|       16867|\n",
      "|   841|     153|   2| 17|17:31:06|  24.463|       24463|\n",
      "|   841|       5|   1| 17|17:31:11|  24.865|       24865|\n",
      "+------+--------+----+---+--------+--------+------------+\n",
      "only showing top 20 rows\n",
      "\n"
     ]
    }
   ],
   "source": [
    "sqlc.sql(\"\"\"\n",
    "    SELECT * \n",
    "    FROM pit_stops\n",
    "\"\"\").show()"
   ]
  },
  {
   "cell_type": "code",
   "execution_count": 27,
   "metadata": {},
   "outputs": [
    {
     "name": "stdout",
     "output_type": "stream",
     "text": [
      "+------+--------+-------+--------+------------+----+---+\n",
      "|raceId|driverId|   name|duration|milliseconds|stop|lap|\n",
      "+------+--------+-------+--------+------------+----+---+\n",
      "|   841|     153|McLaren|  26.898|       26898|   1|  1|\n",
      "|   841|     153|McLaren|  26.898|       26898|   1|  1|\n",
      "|   841|     153|McLaren|  26.898|       26898|   1|  1|\n",
      "|   841|     153|McLaren|  26.898|       26898|   1|  1|\n",
      "|   841|     153|McLaren|  26.898|       26898|   1|  1|\n",
      "|   841|     153|McLaren|  26.898|       26898|   1|  1|\n",
      "|   841|     153|McLaren|  26.898|       26898|   1|  1|\n",
      "|   841|     153|McLaren|  26.898|       26898|   1|  1|\n",
      "|   841|     153|McLaren|  26.898|       26898|   1|  1|\n",
      "|   841|     153|McLaren|  26.898|       26898|   1|  1|\n",
      "|   841|     153|McLaren|  26.898|       26898|   1|  1|\n",
      "|   841|     153|McLaren|  26.898|       26898|   1|  1|\n",
      "|   841|     153|McLaren|  26.898|       26898|   1|  1|\n",
      "|   841|     153|McLaren|  26.898|       26898|   1|  1|\n",
      "|   841|     153|McLaren|  26.898|       26898|   1|  1|\n",
      "|   841|     153|McLaren|  26.898|       26898|   1|  1|\n",
      "|   841|     153|McLaren|  26.898|       26898|   1|  1|\n",
      "|   841|     153|McLaren|  26.898|       26898|   1|  1|\n",
      "|   841|     153|McLaren|  26.898|       26898|   1|  1|\n",
      "|   841|     153|McLaren|  26.898|       26898|   1|  1|\n",
      "+------+--------+-------+--------+------------+----+---+\n",
      "only showing top 20 rows\n",
      "\n"
     ]
    }
   ],
   "source": [
    "sqlc.sql(\"\"\"\n",
    "    SELECT pit_stops.raceId, pit_stops.driverId, constructors.name, pit_stops.duration, pit_stops.milliseconds, pit_stops.stop, pit_stops.lap\n",
    "    FROM pit_stops, constructors, results\n",
    "    WHERE constructors.constructorId == results.constructorId\n",
    "\"\"\").show()"
   ]
  },
  {
   "cell_type": "code",
   "execution_count": 28,
   "metadata": {},
   "outputs": [
    {
     "name": "stdout",
     "output_type": "stream",
     "text": [
      "+------+--------+--------+------------+----+---+-------------+\n",
      "|raceId|driverId|duration|milliseconds|stop|lap|constructorId|\n",
      "+------+--------+--------+------------+----+---+-------------+\n",
      "|   841|     153|  26.898|       26898|   1|  1|          164|\n",
      "|   841|     153|  26.898|       26898|   1|  1|          164|\n",
      "|   841|     153|  26.898|       26898|   1|  1|          164|\n",
      "|   841|     153|  26.898|       26898|   1|  1|          164|\n",
      "|   841|     153|  26.898|       26898|   1|  1|          164|\n",
      "|   841|     153|  26.898|       26898|   1|  1|          164|\n",
      "|   841|     153|  26.898|       26898|   1|  1|          164|\n",
      "|   841|     153|  26.898|       26898|   1|  1|          164|\n",
      "|   841|     153|  26.898|       26898|   1|  1|          164|\n",
      "|   841|     153|  26.898|       26898|   1|  1|          164|\n",
      "|   841|     153|  26.898|       26898|   1|  1|          164|\n",
      "|   841|     153|  26.898|       26898|   1|  1|          164|\n",
      "|   841|     153|  26.898|       26898|   1|  1|          164|\n",
      "|   841|     153|  26.898|       26898|   1|  1|          164|\n",
      "|   841|     153|  26.898|       26898|   1|  1|          164|\n",
      "|   841|     153|  26.898|       26898|   1|  1|          164|\n",
      "|   841|     153|  26.898|       26898|   1|  1|          164|\n",
      "|   841|     153|  26.898|       26898|   1|  1|          164|\n",
      "|   841|     153|  26.898|       26898|   1|  1|          164|\n",
      "|   841|     153|  26.898|       26898|   1|  1|          164|\n",
      "+------+--------+--------+------------+----+---+-------------+\n",
      "only showing top 20 rows\n",
      "\n"
     ]
    }
   ],
   "source": [
    "sqlc.sql(\"\"\"\n",
    "    SELECT pit_stops.raceId, pit_stops.driverId, duration, pit_stops.milliseconds, stop, lap, results.constructorId\n",
    "    FROM pit_stops, results, races\n",
    "    WHERE results.raceId == pit_stops.raceId\n",
    "\"\"\").show()"
   ]
  },
  {
   "cell_type": "code",
   "execution_count": 24,
   "metadata": {},
   "outputs": [
    {
     "name": "stdout",
     "output_type": "stream",
     "text": [
      "+------------------+--------------+------------------+\n",
      "|       driver_name|          name|mean(milliseconds)|\n",
      "+------------------+--------------+------------------+\n",
      "|      Adrian Sutil|   Force India| 34640.10743801653|\n",
      "|      Adrian Sutil|        Sauber| 34640.10743801653|\n",
      "|      Adrian Sutil|        Spyker| 34640.10743801653|\n",
      "|   Alexander Albon|    Toro Rosso|105626.66666666667|\n",
      "|   Alexander Albon|      Red Bull|105626.66666666667|\n",
      "|   Alexander Rossi|Manor Marussia|28321.545454545456|\n",
      "|Antonio Giovinazzi|    Alfa Romeo|100395.51219512195|\n",
      "|Antonio Giovinazzi|        Sauber|100395.51219512195|\n",
      "|   Brendon Hartley|    Toro Rosso| 23993.91176470588|\n",
      "|       Bruno Senna|           HRT| 23938.55737704918|\n",
      "|       Bruno Senna|      Williams| 23938.55737704918|\n",
      "|       Bruno Senna|       Renault| 23938.55737704918|\n",
      "|      Carlos Sainz|       Ferrari| 81812.75829383887|\n",
      "|      Carlos Sainz|    Toro Rosso| 81812.75829383887|\n",
      "|      Carlos Sainz|       McLaren| 81812.75829383887|\n",
      "|      Carlos Sainz|       Renault| 81812.75829383887|\n",
      "|   Charles Leclerc|        Sauber| 94078.57547169812|\n",
      "|   Charles Leclerc|       Ferrari| 94078.57547169812|\n",
      "|       Charles Pic|      Caterham|24748.923076923078|\n",
      "|       Charles Pic|      Marussia|24748.923076923078|\n",
      "+------------------+--------------+------------------+\n",
      "only showing top 20 rows\n",
      "\n"
     ]
    }
   ],
   "source": [
    "sqlc.sql(\"\"\"\n",
    "    SELECT concat(drivers.forename, ' ', drivers.surname) AS driver_name, constructors.name, mean(pit_stops.milliseconds)\n",
    "    FROM results, pit_stops, drivers, constructors, races\n",
    "    WHERE results.driverId == pit_stops.driverId\n",
    "        AND drivers.driverId == pit_stops.driverId\n",
    "        AND constructors.constructorId == results.constructorId\n",
    "        AND races.raceId == pit_stops.raceId\n",
    "        AND races.year >= 2008\n",
    "    GROUP BY driver_name, constructors.name\n",
    "    ORDER BY driver_name\n",
    "\"\"\").show()"
   ]
  },
  {
   "cell_type": "code",
   "execution_count": 54,
   "metadata": {},
   "outputs": [
    {
     "ename": "AnalysisException",
     "evalue": "expression 'constructors.`name`' is neither present in the group by, nor is it an aggregate function. Add to group by or wrap in first() (or first_value) if you don't care which value you get.;;\nAggregate [concat(forename#336,  , surname#337)], [round(mean(cast(milliseconds#477 as bigint)), 3) AS avg_pitstop#1592, concat(forename#336,  , surname#337) AS driver_name#1593, name#216]\n+- Filter (((raceId#471 = raceId#691) AND (driverId#332 = driverId#472)) AND (constructorId#214 = constructorId#693))\n   +- Join Inner\n      :- Join Inner\n      :  :- Join Inner\n      :  :  :- SubqueryAlias pit_stops\n      :  :  :  +- Relation[raceId#471,driverId#472,stop#473,lap#474,time#475,duration#476,milliseconds#477] csv\n      :  :  +- SubqueryAlias results\n      :  :     +- Relation[resultId#690,raceId#691,driverId#692,constructorId#693,number#694,grid#695,position#696,positionText#697,positionOrder#698,points#699,laps#700,time#701,milliseconds#702,fastestLap#703,rank#704,fastestLapTime#705,fastestLapSpeed#706,statusId#707] csv\n      :  +- SubqueryAlias drivers\n      :     +- Relation[driverId#332,driverRef#333,number#334,code#335,forename#336,surname#337,dob#338,nationality#339,url#340] csv\n      +- SubqueryAlias constructors\n         +- Relation[constructorId#214,constructorRef#215,name#216,nationality#217,url#218] csv\n",
     "output_type": "error",
     "traceback": [
      "\u001b[0;31m---------------------------------------------------------------------------\u001b[0m",
      "\u001b[0;31mAnalysisException\u001b[0m                         Traceback (most recent call last)",
      "\u001b[0;32m<ipython-input-54-e6652e9a5530>\u001b[0m in \u001b[0;36m<module>\u001b[0;34m\u001b[0m\n\u001b[0;32m----> 1\u001b[0;31m avg_pit_stops = sqlc.sql(\"\"\"\n\u001b[0m\u001b[1;32m      2\u001b[0m     \u001b[0mSELECT\u001b[0m \u001b[0mround\u001b[0m\u001b[0;34m(\u001b[0m\u001b[0mmean\u001b[0m\u001b[0;34m(\u001b[0m\u001b[0mpit_stops\u001b[0m\u001b[0;34m.\u001b[0m\u001b[0mmilliseconds\u001b[0m\u001b[0;34m)\u001b[0m\u001b[0;34m,\u001b[0m \u001b[0;36m3\u001b[0m\u001b[0;34m)\u001b[0m \u001b[0mAS\u001b[0m \u001b[0mavg_pitstop\u001b[0m\u001b[0;34m,\u001b[0m \u001b[0mconcat\u001b[0m\u001b[0;34m(\u001b[0m\u001b[0mdrivers\u001b[0m\u001b[0;34m.\u001b[0m\u001b[0mforename\u001b[0m\u001b[0;34m,\u001b[0m \u001b[0;34m' '\u001b[0m\u001b[0;34m,\u001b[0m \u001b[0mdrivers\u001b[0m\u001b[0;34m.\u001b[0m\u001b[0msurname\u001b[0m\u001b[0;34m)\u001b[0m \u001b[0mAS\u001b[0m \u001b[0mdriver_name\u001b[0m\u001b[0;34m,\u001b[0m \u001b[0mconstructors\u001b[0m\u001b[0;34m.\u001b[0m\u001b[0mname\u001b[0m\u001b[0;34m\u001b[0m\u001b[0;34m\u001b[0m\u001b[0m\n\u001b[1;32m      3\u001b[0m     \u001b[0mFROM\u001b[0m \u001b[0mpit_stops\u001b[0m\u001b[0;34m,\u001b[0m \u001b[0mresults\u001b[0m\u001b[0;34m,\u001b[0m \u001b[0mdrivers\u001b[0m\u001b[0;34m,\u001b[0m \u001b[0mconstructors\u001b[0m\u001b[0;34m\u001b[0m\u001b[0;34m\u001b[0m\u001b[0m\n\u001b[1;32m      4\u001b[0m     \u001b[0mWHERE\u001b[0m \u001b[0mpit_stops\u001b[0m\u001b[0;34m.\u001b[0m\u001b[0mraceId\u001b[0m \u001b[0;34m==\u001b[0m \u001b[0mresults\u001b[0m\u001b[0;34m.\u001b[0m\u001b[0mraceId\u001b[0m\u001b[0;34m\u001b[0m\u001b[0;34m\u001b[0m\u001b[0m\n\u001b[1;32m      5\u001b[0m         \u001b[0mAND\u001b[0m \u001b[0mdrivers\u001b[0m\u001b[0;34m.\u001b[0m\u001b[0mdriverId\u001b[0m \u001b[0;34m==\u001b[0m \u001b[0mpit_stops\u001b[0m\u001b[0;34m.\u001b[0m\u001b[0mdriverId\u001b[0m\u001b[0;34m\u001b[0m\u001b[0;34m\u001b[0m\u001b[0m\n",
      "\u001b[0;32m~/spark-3.0.1-bin-hadoop3.2/python/pyspark/sql/context.py\u001b[0m in \u001b[0;36msql\u001b[0;34m(self, sqlQuery)\u001b[0m\n\u001b[1;32m    369\u001b[0m         \u001b[0;34m[\u001b[0m\u001b[0mRow\u001b[0m\u001b[0;34m(\u001b[0m\u001b[0mf1\u001b[0m\u001b[0;34m=\u001b[0m\u001b[0;36m1\u001b[0m\u001b[0;34m,\u001b[0m \u001b[0mf2\u001b[0m\u001b[0;34m=\u001b[0m\u001b[0;34mu'row1'\u001b[0m\u001b[0;34m)\u001b[0m\u001b[0;34m,\u001b[0m \u001b[0mRow\u001b[0m\u001b[0;34m(\u001b[0m\u001b[0mf1\u001b[0m\u001b[0;34m=\u001b[0m\u001b[0;36m2\u001b[0m\u001b[0;34m,\u001b[0m \u001b[0mf2\u001b[0m\u001b[0;34m=\u001b[0m\u001b[0;34mu'row2'\u001b[0m\u001b[0;34m)\u001b[0m\u001b[0;34m,\u001b[0m \u001b[0mRow\u001b[0m\u001b[0;34m(\u001b[0m\u001b[0mf1\u001b[0m\u001b[0;34m=\u001b[0m\u001b[0;36m3\u001b[0m\u001b[0;34m,\u001b[0m \u001b[0mf2\u001b[0m\u001b[0;34m=\u001b[0m\u001b[0;34mu'row3'\u001b[0m\u001b[0;34m)\u001b[0m\u001b[0;34m]\u001b[0m\u001b[0;34m\u001b[0m\u001b[0;34m\u001b[0m\u001b[0m\n\u001b[1;32m    370\u001b[0m         \"\"\"\n\u001b[0;32m--> 371\u001b[0;31m         \u001b[0;32mreturn\u001b[0m \u001b[0mself\u001b[0m\u001b[0;34m.\u001b[0m\u001b[0msparkSession\u001b[0m\u001b[0;34m.\u001b[0m\u001b[0msql\u001b[0m\u001b[0;34m(\u001b[0m\u001b[0msqlQuery\u001b[0m\u001b[0;34m)\u001b[0m\u001b[0;34m\u001b[0m\u001b[0;34m\u001b[0m\u001b[0m\n\u001b[0m\u001b[1;32m    372\u001b[0m \u001b[0;34m\u001b[0m\u001b[0m\n\u001b[1;32m    373\u001b[0m     \u001b[0;34m@\u001b[0m\u001b[0msince\u001b[0m\u001b[0;34m(\u001b[0m\u001b[0;36m1.0\u001b[0m\u001b[0;34m)\u001b[0m\u001b[0;34m\u001b[0m\u001b[0;34m\u001b[0m\u001b[0m\n",
      "\u001b[0;32m~/spark-3.0.1-bin-hadoop3.2/python/pyspark/sql/session.py\u001b[0m in \u001b[0;36msql\u001b[0;34m(self, sqlQuery)\u001b[0m\n\u001b[1;32m    647\u001b[0m         \u001b[0;34m[\u001b[0m\u001b[0mRow\u001b[0m\u001b[0;34m(\u001b[0m\u001b[0mf1\u001b[0m\u001b[0;34m=\u001b[0m\u001b[0;36m1\u001b[0m\u001b[0;34m,\u001b[0m \u001b[0mf2\u001b[0m\u001b[0;34m=\u001b[0m\u001b[0;34mu'row1'\u001b[0m\u001b[0;34m)\u001b[0m\u001b[0;34m,\u001b[0m \u001b[0mRow\u001b[0m\u001b[0;34m(\u001b[0m\u001b[0mf1\u001b[0m\u001b[0;34m=\u001b[0m\u001b[0;36m2\u001b[0m\u001b[0;34m,\u001b[0m \u001b[0mf2\u001b[0m\u001b[0;34m=\u001b[0m\u001b[0;34mu'row2'\u001b[0m\u001b[0;34m)\u001b[0m\u001b[0;34m,\u001b[0m \u001b[0mRow\u001b[0m\u001b[0;34m(\u001b[0m\u001b[0mf1\u001b[0m\u001b[0;34m=\u001b[0m\u001b[0;36m3\u001b[0m\u001b[0;34m,\u001b[0m \u001b[0mf2\u001b[0m\u001b[0;34m=\u001b[0m\u001b[0;34mu'row3'\u001b[0m\u001b[0;34m)\u001b[0m\u001b[0;34m]\u001b[0m\u001b[0;34m\u001b[0m\u001b[0;34m\u001b[0m\u001b[0m\n\u001b[1;32m    648\u001b[0m         \"\"\"\n\u001b[0;32m--> 649\u001b[0;31m         \u001b[0;32mreturn\u001b[0m \u001b[0mDataFrame\u001b[0m\u001b[0;34m(\u001b[0m\u001b[0mself\u001b[0m\u001b[0;34m.\u001b[0m\u001b[0m_jsparkSession\u001b[0m\u001b[0;34m.\u001b[0m\u001b[0msql\u001b[0m\u001b[0;34m(\u001b[0m\u001b[0msqlQuery\u001b[0m\u001b[0;34m)\u001b[0m\u001b[0;34m,\u001b[0m \u001b[0mself\u001b[0m\u001b[0;34m.\u001b[0m\u001b[0m_wrapped\u001b[0m\u001b[0;34m)\u001b[0m\u001b[0;34m\u001b[0m\u001b[0;34m\u001b[0m\u001b[0m\n\u001b[0m\u001b[1;32m    650\u001b[0m \u001b[0;34m\u001b[0m\u001b[0m\n\u001b[1;32m    651\u001b[0m     \u001b[0;34m@\u001b[0m\u001b[0msince\u001b[0m\u001b[0;34m(\u001b[0m\u001b[0;36m2.0\u001b[0m\u001b[0;34m)\u001b[0m\u001b[0;34m\u001b[0m\u001b[0;34m\u001b[0m\u001b[0m\n",
      "\u001b[0;32m~/spark-3.0.1-bin-hadoop3.2/python/lib/py4j-0.10.9-src.zip/py4j/java_gateway.py\u001b[0m in \u001b[0;36m__call__\u001b[0;34m(self, *args)\u001b[0m\n\u001b[1;32m   1302\u001b[0m \u001b[0;34m\u001b[0m\u001b[0m\n\u001b[1;32m   1303\u001b[0m         \u001b[0manswer\u001b[0m \u001b[0;34m=\u001b[0m \u001b[0mself\u001b[0m\u001b[0;34m.\u001b[0m\u001b[0mgateway_client\u001b[0m\u001b[0;34m.\u001b[0m\u001b[0msend_command\u001b[0m\u001b[0;34m(\u001b[0m\u001b[0mcommand\u001b[0m\u001b[0;34m)\u001b[0m\u001b[0;34m\u001b[0m\u001b[0;34m\u001b[0m\u001b[0m\n\u001b[0;32m-> 1304\u001b[0;31m         return_value = get_return_value(\n\u001b[0m\u001b[1;32m   1305\u001b[0m             answer, self.gateway_client, self.target_id, self.name)\n\u001b[1;32m   1306\u001b[0m \u001b[0;34m\u001b[0m\u001b[0m\n",
      "\u001b[0;32m~/spark-3.0.1-bin-hadoop3.2/python/pyspark/sql/utils.py\u001b[0m in \u001b[0;36mdeco\u001b[0;34m(*a, **kw)\u001b[0m\n\u001b[1;32m    132\u001b[0m                 \u001b[0;31m# Hide where the exception came from that shows a non-Pythonic\u001b[0m\u001b[0;34m\u001b[0m\u001b[0;34m\u001b[0m\u001b[0;34m\u001b[0m\u001b[0m\n\u001b[1;32m    133\u001b[0m                 \u001b[0;31m# JVM exception message.\u001b[0m\u001b[0;34m\u001b[0m\u001b[0;34m\u001b[0m\u001b[0;34m\u001b[0m\u001b[0m\n\u001b[0;32m--> 134\u001b[0;31m                 \u001b[0mraise_from\u001b[0m\u001b[0;34m(\u001b[0m\u001b[0mconverted\u001b[0m\u001b[0;34m)\u001b[0m\u001b[0;34m\u001b[0m\u001b[0;34m\u001b[0m\u001b[0m\n\u001b[0m\u001b[1;32m    135\u001b[0m             \u001b[0;32melse\u001b[0m\u001b[0;34m:\u001b[0m\u001b[0;34m\u001b[0m\u001b[0;34m\u001b[0m\u001b[0m\n\u001b[1;32m    136\u001b[0m                 \u001b[0;32mraise\u001b[0m\u001b[0;34m\u001b[0m\u001b[0;34m\u001b[0m\u001b[0m\n",
      "\u001b[0;32m~/spark-3.0.1-bin-hadoop3.2/python/pyspark/sql/utils.py\u001b[0m in \u001b[0;36mraise_from\u001b[0;34m(e)\u001b[0m\n",
      "\u001b[0;31mAnalysisException\u001b[0m: expression 'constructors.`name`' is neither present in the group by, nor is it an aggregate function. Add to group by or wrap in first() (or first_value) if you don't care which value you get.;;\nAggregate [concat(forename#336,  , surname#337)], [round(mean(cast(milliseconds#477 as bigint)), 3) AS avg_pitstop#1592, concat(forename#336,  , surname#337) AS driver_name#1593, name#216]\n+- Filter (((raceId#471 = raceId#691) AND (driverId#332 = driverId#472)) AND (constructorId#214 = constructorId#693))\n   +- Join Inner\n      :- Join Inner\n      :  :- Join Inner\n      :  :  :- SubqueryAlias pit_stops\n      :  :  :  +- Relation[raceId#471,driverId#472,stop#473,lap#474,time#475,duration#476,milliseconds#477] csv\n      :  :  +- SubqueryAlias results\n      :  :     +- Relation[resultId#690,raceId#691,driverId#692,constructorId#693,number#694,grid#695,position#696,positionText#697,positionOrder#698,points#699,laps#700,time#701,milliseconds#702,fastestLap#703,rank#704,fastestLapTime#705,fastestLapSpeed#706,statusId#707] csv\n      :  +- SubqueryAlias drivers\n      :     +- Relation[driverId#332,driverRef#333,number#334,code#335,forename#336,surname#337,dob#338,nationality#339,url#340] csv\n      +- SubqueryAlias constructors\n         +- Relation[constructorId#214,constructorRef#215,name#216,nationality#217,url#218] csv\n"
     ]
    }
   ],
   "source": [
    "avg_pit_stops = sqlc.sql(\"\"\"\n",
    "    SELECT round(mean(pit_stops.milliseconds), 3) AS avg_pitstop, concat(drivers.forename, ' ', drivers.surname) AS driver_name, constructors.name\n",
    "    FROM pit_stops, results, drivers, constructors\n",
    "    WHERE pit_stops.raceId == results.raceId\n",
    "        AND drivers.driverId == pit_stops.driverId\n",
    "        AND constructors.constructorId == results.constructorId\n",
    "    GROUP BY driver_name\n",
    "\"\"\")\n",
    "\n",
    "avg_pit_stops.createOrReplaceTempView('avg_pit_stops')\n",
    "avg_pit_stops.show()"
   ]
  },
  {
   "cell_type": "code",
   "execution_count": 50,
   "metadata": {},
   "outputs": [
    {
     "name": "stdout",
     "output_type": "stream",
     "text": [
      "+-----------+------------------+------------+\n",
      "|avg_pitstop|       driver_name|        name|\n",
      "+-----------+------------------+------------+\n",
      "|    21962.0| Jérôme d'Ambrosio|    Caterham|\n",
      "|    21962.0| Jérôme d'Ambrosio|    Lotus F1|\n",
      "|    21962.0| Jérôme d'Ambrosio|    Marussia|\n",
      "|  22033.854|Michael Schumacher|    Marussia|\n",
      "|  22033.854|Michael Schumacher|    Caterham|\n",
      "|  22033.854|Michael Schumacher|    Lotus F1|\n",
      "|  22135.591|  Sebastian Vettel|         HRT|\n",
      "|    22273.0|  Sebastian Vettel|      Virgin|\n",
      "|    22273.0|  Sebastian Vettel|       Lotus|\n",
      "|  22283.857|      Nico Rosberg|       Lotus|\n",
      "|  22283.857|      Nico Rosberg|      Virgin|\n",
      "|  22386.591|  Jean-Éric Vergne|         HRT|\n",
      "|    22399.0|     Paul di Resta|Haas F1 Team|\n",
      "|  22411.157|   Fernando Alonso|         HRT|\n",
      "|  22460.563|       Mark Webber|         HRT|\n",
      "|  22494.648|     Jenson Button|      Virgin|\n",
      "|  22494.648|     Jenson Button|       Lotus|\n",
      "|  22508.537|     Jenson Button|         HRT|\n",
      "|  22541.644|Michael Schumacher|    Williams|\n",
      "|  22541.644|Michael Schumacher|     Ferrari|\n",
      "+-----------+------------------+------------+\n",
      "only showing top 20 rows\n",
      "\n"
     ]
    }
   ],
   "source": [
    "sqlc.sql(\"\"\"\n",
    "    SELECT * \n",
    "    FROM avg_pit_stops \n",
    "    ORDER BY avg_pitstop ASC\n",
    "\"\"\").show()"
   ]
  },
  {
   "cell_type": "markdown",
   "metadata": {},
   "source": [
    "### Average finishing position at each track\n",
    "\n",
    "Different tracks suit different cars, so it is interesting to see which tracks McLaren has been doing well in for the past 12 years. "
   ]
  },
  {
   "cell_type": "code",
   "execution_count": 32,
   "metadata": {},
   "outputs": [
    {
     "name": "stdout",
     "output_type": "stream",
     "text": [
      "+------------------------------------+----------------------+-----------+\n",
      "|track_name                          |avg_finishing_position|count(name)|\n",
      "+------------------------------------+----------------------+-----------+\n",
      "|Autodromo Enzo e Dino Ferrari       |6.0                   |3412       |\n",
      "|Valencia Street Circuit             |6.0                   |5971       |\n",
      "|Autodromo Internazionale del Mugello|6.0                   |853        |\n",
      "|Albert Park Grand Prix Circuit      |6.33                  |15354      |\n",
      "|Buddh International Circuit         |6.6                   |4265       |\n",
      "|Hungaroring                         |6.68                  |18766      |\n",
      "|Marina Bay Street Circuit           |6.69                  |13648      |\n",
      "|Istanbul Park                       |7.0                   |7677       |\n",
      "|Korean International Circuit        |7.33                  |5118       |\n",
      "|Hockenheimring                      |7.64                  |9383       |\n",
      "|Nürburgring                         |7.67                  |5118       |\n",
      "|Sepang International Circuit        |7.71                  |14501      |\n",
      "|Circuit of the Americas             |8.0                   |11942      |\n",
      "|Circuit de Monaco                   |8.1                   |17060      |\n",
      "|Shanghai International Circuit      |8.2                   |17060      |\n",
      "|Circuit de Spa-Francorchamps        |8.24                  |14501      |\n",
      "|Autódromo Internacional do Algarve  |8.25                  |3412       |\n",
      "|Red Bull Ring                       |8.29                  |14501      |\n",
      "|Circuit de Barcelona-Catalunya      |8.38                  |17913      |\n",
      "|Autódromo José Carlos Pace          |8.5                   |15354      |\n",
      "+------------------------------------+----------------------+-----------+\n",
      "only showing top 20 rows\n",
      "\n"
     ]
    }
   ],
   "source": [
    "sqlc.sql(\"\"\"\n",
    "    SELECT circuits.name AS track_name, round(mean(position),2) AS avg_finishing_position\n",
    "    FROM results, races, constructors, drivers, circuits\n",
    "    WHERE races.raceId == results.raceId\n",
    "        AND constructors.constructorId == results.constructorId\n",
    "        AND position IN (1,2,3,5,6,7,8,9,10,11,12,13,14,15,16,17,18,19,20,21,22)\n",
    "        AND results.constructorId == 1\n",
    "        AND races.year >= 2008\n",
    "        AND races.circuitId == circuits.circuitId\n",
    "    GROUP BY circuits.name\n",
    "    ORDER BY avg_finishing_position ASC\n",
    "\"\"\").show(20, False)"
   ]
  },
  {
   "cell_type": "code",
   "execution_count": 33,
   "metadata": {},
   "outputs": [
    {
     "name": "stdout",
     "output_type": "stream",
     "text": [
      "+----------------------------------+----------------------+\n",
      "|track_name                        |avg_finishing_position|\n",
      "+----------------------------------+----------------------+\n",
      "|Fuji Speedway                     |12.0                  |\n",
      "|Autódromo Hermanos Rodríguez      |11.71                 |\n",
      "|Sochi Autodrom                    |10.36                 |\n",
      "|Suzuka Circuit                    |10.2                  |\n",
      "|Circuit de Nevers Magny-Cours     |10.0                  |\n",
      "|Silverstone Circuit               |9.71                  |\n",
      "|Bahrain International Circuit     |9.32                  |\n",
      "|Circuit Gilles Villeneuve         |9.29                  |\n",
      "|Autodromo Nazionale di Monza      |9.05                  |\n",
      "|Circuit Paul Ricard               |9.0                   |\n",
      "|Baku City Circuit                 |8.56                  |\n",
      "|Yas Marina Circuit                |8.55                  |\n",
      "|Autódromo José Carlos Pace        |8.5                   |\n",
      "|Circuit de Barcelona-Catalunya    |8.38                  |\n",
      "|Red Bull Ring                     |8.29                  |\n",
      "|Autódromo Internacional do Algarve|8.25                  |\n",
      "|Circuit de Spa-Francorchamps      |8.24                  |\n",
      "|Shanghai International Circuit    |8.2                   |\n",
      "|Circuit de Monaco                 |8.1                   |\n",
      "|Circuit of the Americas           |8.0                   |\n",
      "+----------------------------------+----------------------+\n",
      "only showing top 20 rows\n",
      "\n"
     ]
    }
   ],
   "source": [
    "sqlc.sql(\"\"\"\n",
    "    SELECT circuits.name AS track_name, round(mean(position),2) AS avg_finishing_position\n",
    "    FROM results, races, constructors, drivers, circuits\n",
    "    WHERE races.raceId == results.raceId\n",
    "        AND constructors.constructorId == results.constructorId\n",
    "        AND position IN (1,2,3,5,6,7,8,9,10,11,12,13,14,15,16,17,18,19,20,21,22)\n",
    "        AND results.constructorId == 1\n",
    "        AND races.year >= 2008\n",
    "        AND races.circuitId == circuits.circuitId\n",
    "    GROUP BY circuits.name\n",
    "    ORDER BY avg_finishing_position DESC\n",
    "\"\"\").show(20, False)"
   ]
  },
  {
   "cell_type": "markdown",
   "metadata": {},
   "source": [
    "As we can see, there are only 4 tracks where McLaren have, on average, finished outside the points, two of thos are located in Japan. The data might be slightly biased, since there are tracks that don't feature on the calendar every year. It is interesting however, to see that over the past 10 years, McLaren have not done well in their home race at Silverstone. \n",
    "\n",
    "### Different driver performance at McLaren \n",
    "\n",
    "We can now take a look at how the different drivers have done over the years at McLaren. "
   ]
  },
  {
   "cell_type": "markdown",
   "metadata": {},
   "source": [
    "#### Average qualifying and finishing position"
   ]
  },
  {
   "cell_type": "code",
   "execution_count": 82,
   "metadata": {},
   "outputs": [
    {
     "name": "stdout",
     "output_type": "stream",
     "text": [
      "+-----------------+------------+---------------+\n",
      "|      driver_name|avg_position|mean_qualifying|\n",
      "+-----------------+------------+---------------+\n",
      "|   Lewis Hamilton|         4.9|           4.57|\n",
      "|Heikki Kovalainen|        6.96|           7.29|\n",
      "|     Carlos Sainz|        7.35|           9.39|\n",
      "|    Jenson Button|        7.56|           9.34|\n",
      "|     Lando Norris|        7.76|           8.36|\n",
      "| Daniel Ricciardo|        8.33|          10.67|\n",
      "|  Kevin Magnussen|        9.39|            8.6|\n",
      "|     Sergio Pérez|       10.16|           11.0|\n",
      "|  Fernando Alonso|       10.87|          13.06|\n",
      "|Stoffel Vandoorne|       12.12|          15.07|\n",
      "+-----------------+------------+---------------+\n",
      "\n"
     ]
    }
   ],
   "source": [
    "avg_positions = sqlc.sql(\"\"\"\n",
    "    SELECT concat(drivers.forename, ' ', drivers.surname) AS driver_name, round(mean(results.position), 2) AS avg_position, round(mean(qualifying.position), 2) AS mean_qualifying\n",
    "    FROM results, races, drivers, qualifying \n",
    "    WHERE results.constructorId == 1\n",
    "        AND qualifying.constructorId == 1\n",
    "        AND races.year >= 2008\n",
    "        AND races.raceId == results.raceId \n",
    "        ANd races.raceId == qualifying.raceId\n",
    "        AND drivers.driverId == results.driverId \n",
    "        AND results.driverId == qualifying.driverId\n",
    "    GROUP BY driver_name\n",
    "    ORDER BY avg_position ASC\n",
    "\"\"\")\n",
    "avg_positions.show()"
   ]
  },
  {
   "cell_type": "markdown",
   "metadata": {},
   "source": [
    "This analysis is unfair to some of the drivers, the two drivers that were in the team during it's worse period are Fernando Alonso, and Stoffel Vandoorne. Which is why they are very low in the rankings. It is important to note that all the drivers have a better average finsihing position than qualifying position, except for lewis Hamilton. This is likely because Lewis already qualified so high, there are not as many places to make up starting from 5th compared to starting from 13th. \n",
    "\n",
    "It would also be interesting to see the team's average qualifying position by season:"
   ]
  },
  {
   "cell_type": "code",
   "execution_count": 90,
   "metadata": {},
   "outputs": [
    {
     "data": {
      "text/plain": [
       "<AxesSubplot:xlabel='year'>"
      ]
     },
     "execution_count": 90,
     "metadata": {},
     "output_type": "execute_result"
    },
    {
     "data": {
      "image/png": "[encoded data removed]",
      "text/plain": [
       "<Figure size 432x288 with 1 Axes>"
      ]
     },
     "metadata": {
      "needs_background": "light"
     },
     "output_type": "display_data"
    }
   ],
   "source": [
    "avg_positions_year = sqlc.sql(\"\"\"\n",
    "    SELECT races.year, round(mean(qualifying.position), 2) AS avg_qualifying, round(mean(results.position), 2) AS avg_position\n",
    "    FROM races, qualifying, results\n",
    "    WHERE races.year >= 2008\n",
    "        AND qualifying.constructorId == 1\n",
    "        AND results.constructorId == 1\n",
    "        AND races.raceId == qualifying.raceId\n",
    "        AND races.raceId == results.raceId\n",
    "    GROUP BY races.year\n",
    "    ORDER BY year ASC\n",
    "\"\"\")\n",
    "\n",
    "avg_positions_year\\\n",
    "    .toPandas() \\\n",
    "    .plot \\\n",
    "    .bar(x = 'year',\n",
    "         y = ['avg_qualifying', 'avg_position'])"
   ]
  },
  {
   "cell_type": "code",
   "execution_count": 85,
   "metadata": {},
   "outputs": [
    {
     "data": {
      "text/plain": [
       "<AxesSubplot:xlabel='year'>"
      ]
     },
     "execution_count": 85,
     "metadata": {},
     "output_type": "execute_result"
    },
    {
     "data": {
      "image/png": "[encoded data removed]",
      "text/plain": [
       "<Figure size 432x288 with 1 Axes>"
      ]
     },
     "metadata": {
      "needs_background": "light"
     },
     "output_type": "display_data"
    }
   ],
   "source": [
    "sqlc.sql(\"\"\"\n",
    "    SELECT races.year, round(mean(results.position), 2) AS avg_position \n",
    "    FROM races, results\n",
    "    WHERE races.year >= 2008\n",
    "        AND results.constructorId == 1\n",
    "        AND races.raceId == results.raceId\n",
    "    GROUP BY races.year\n",
    "    ORDER BY year ASC\n",
    "\"\"\") \\\n",
    "    .toPandas() \\\n",
    "    .plot \\\n",
    "    .bar(x = 'year',\n",
    "         y = 'avg_position')"
   ]
  }
 ],
 "metadata": {
  "kernelspec": {
   "display_name": "Python 3",
   "language": "python",
   "name": "python3"
  },
  "language_info": {
   "codemirror_mode": {
    "name": "ipython",
    "version": 3
   },
   "file_extension": ".py",
   "mimetype": "text/x-python",
   "name": "python",
   "nbconvert_exporter": "python",
   "pygments_lexer": "ipython3",
   "version": "3.8.10"
  }
 },
 "nbformat": 4,
 "nbformat_minor": 4
}
