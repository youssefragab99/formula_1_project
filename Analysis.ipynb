{
 "cells": [
  {
   "cell_type": "markdown",
   "metadata": {},
   "source": [
    "# Formula 1 data analysis: "
   ]
  },
  {
   "cell_type": "markdown",
   "metadata": {},
   "source": [
    "### What are we looking to achieve: \n",
    "\n",
    "* Visualizing and exploring the data \n",
    "* Joining tables \n",
    "* Predicting if the car is going to have a points finish "
   ]
  },
  {
   "cell_type": "markdown",
   "metadata": {},
   "source": [
    "### Loading PySpark instance on the notebook"
   ]
  },
  {
   "cell_type": "code",
   "execution_count": 1,
   "metadata": {},
   "outputs": [],
   "source": [
    "import os \n",
    "os.environ['SPARK_HOME'] = '/Users/youssefragab/spark-3.0.1-bin-hadoop3.2/'\n",
    "import findspark \n",
    "findspark.init()\n",
    "from pyspark import SparkContext\n",
    "spark = SparkContext(appName = 'final_project')"
   ]
  },
  {
   "cell_type": "code",
   "execution_count": 2,
   "metadata": {},
   "outputs": [],
   "source": [
    "import matplotlib\n",
    "import matplotlib.pyplot as plt\n",
    "import pandas"
   ]
  },
  {
   "cell_type": "code",
   "execution_count": 3,
   "metadata": {},
   "outputs": [
    {
     "data": {
      "text/html": [
       "\n",
       "        <div>\n",
       "            <p><b>SparkContext</b></p>\n",
       "\n",
       "            <p><a href=\"http://10.120.154.236:4040\">Spark UI</a></p>\n",
       "\n",
       "            <dl>\n",
       "              <dt>Version</dt>\n",
       "                <dd><code>v3.0.1</code></dd>\n",
       "              <dt>Master</dt>\n",
       "                <dd><code>local[*]</code></dd>\n",
       "              <dt>AppName</dt>\n",
       "                <dd><code>final_project</code></dd>\n",
       "            </dl>\n",
       "        </div>\n",
       "        "
      ],
      "text/plain": [
       "<SparkContext master=local[*] appName=final_project>"
      ]
     },
     "execution_count": 3,
     "metadata": {},
     "output_type": "execute_result"
    }
   ],
   "source": [
    "spark"
   ]
  },
  {
   "cell_type": "code",
   "execution_count": 4,
   "metadata": {},
   "outputs": [],
   "source": [
    "from pyspark import SQLContext\n",
    "sqlc = SQLContext(spark)"
   ]
  },
  {
   "cell_type": "code",
   "execution_count": 5,
   "metadata": {},
   "outputs": [
    {
     "data": {
      "text/plain": [
       "<pyspark.sql.context.SQLContext at 0x7fa152d56be0>"
      ]
     },
     "execution_count": 5,
     "metadata": {},
     "output_type": "execute_result"
    }
   ],
   "source": [
    "sqlc"
   ]
  },
  {
   "cell_type": "markdown",
   "metadata": {},
   "source": [
    "### Loading the data into the instance\n",
    "\n",
    "Now that we have loaded the sql instance, we can use sql to read in the csv files into pySpark dataframes:"
   ]
  },
  {
   "cell_type": "code",
   "execution_count": 6,
   "metadata": {},
   "outputs": [
    {
     "name": "stdout",
     "output_type": "stream",
     "text": [
      "+---------+--------------+--------------------+------------+---------+--------+--------+---+--------------------+\n",
      "|circuitId|    circuitRef|                name|    location|  country|     lat|     lng|alt|                 url|\n",
      "+---------+--------------+--------------------+------------+---------+--------+--------+---+--------------------+\n",
      "|        1|   albert_park|Albert Park Grand...|   Melbourne|Australia|-37.8497| 144.968| 10|http://en.wikiped...|\n",
      "|        2|        sepang|Sepang Internatio...|Kuala Lumpur| Malaysia| 2.76083| 101.738| 18|http://en.wikiped...|\n",
      "|        3|       bahrain|Bahrain Internati...|      Sakhir|  Bahrain| 26.0325| 50.5106|  7|http://en.wikiped...|\n",
      "|        4|     catalunya|Circuit de Barcel...|    Montmeló|    Spain|   41.57| 2.26111|109|http://en.wikiped...|\n",
      "|        5|      istanbul|       Istanbul Park|    Istanbul|   Turkey| 40.9517|  29.405|130|http://en.wikiped...|\n",
      "|        6|        monaco|   Circuit de Monaco| Monte-Carlo|   Monaco| 43.7347| 7.42056|  7|http://en.wikiped...|\n",
      "|        7|    villeneuve|Circuit Gilles Vi...|    Montreal|   Canada|    45.5|-73.5228| 13|http://en.wikiped...|\n",
      "|        8|   magny_cours|Circuit de Nevers...| Magny Cours|   France| 46.8642| 3.16361|228|http://en.wikiped...|\n",
      "|        9|   silverstone| Silverstone Circuit| Silverstone|       UK| 52.0786|-1.01694|153|http://en.wikiped...|\n",
      "|       10|hockenheimring|      Hockenheimring|  Hockenheim|  Germany| 49.3278| 8.56583|103|http://en.wikiped...|\n",
      "+---------+--------------+--------------------+------------+---------+--------+--------+---+--------------------+\n",
      "only showing top 10 rows\n",
      "\n"
     ]
    }
   ],
   "source": [
    "circuits = sqlc.read.csv('circuits.csv', header = True, inferSchema = True)\n",
    "circuits.createOrReplaceTempView('circuits')\n",
    "\n",
    "circuits.show(10)"
   ]
  },
  {
   "cell_type": "code",
   "execution_count": 7,
   "metadata": {},
   "outputs": [
    {
     "name": "stdout",
     "output_type": "stream",
     "text": [
      "+--------------------+------+-------------+------+------+\n",
      "|constructorResultsId|raceId|constructorId|points|status|\n",
      "+--------------------+------+-------------+------+------+\n",
      "|                   1|    18|            1|  14.0|    \\N|\n",
      "|                   2|    18|            2|   8.0|    \\N|\n",
      "|                   3|    18|            3|   9.0|    \\N|\n",
      "|                   4|    18|            4|   5.0|    \\N|\n",
      "|                   5|    18|            5|   2.0|    \\N|\n",
      "|                   6|    18|            6|   1.0|    \\N|\n",
      "|                   7|    18|            7|   0.0|    \\N|\n",
      "|                   8|    18|            8|   0.0|    \\N|\n",
      "|                   9|    18|            9|   0.0|    \\N|\n",
      "|                  10|    18|           10|   0.0|    \\N|\n",
      "+--------------------+------+-------------+------+------+\n",
      "only showing top 10 rows\n",
      "\n"
     ]
    }
   ],
   "source": [
    "constructor_results = sqlc.read.csv('constructor_results.csv', header = True, inferSchema = True)\n",
    "constructor_results.createOrReplaceTempView('constructor_results')\n",
    "\n",
    "constructor_results.show(10)"
   ]
  },
  {
   "cell_type": "code",
   "execution_count": 8,
   "metadata": {},
   "outputs": [
    {
     "name": "stdout",
     "output_type": "stream",
     "text": [
      "+----------------------+------+-------------+------+--------+------------+----+\n",
      "|constructorStandingsId|raceId|constructorId|points|position|positionText|wins|\n",
      "+----------------------+------+-------------+------+--------+------------+----+\n",
      "|                     1|    18|            1|  14.0|       1|           1|   1|\n",
      "|                     2|    18|            2|   8.0|       3|           3|   0|\n",
      "|                     3|    18|            3|   9.0|       2|           2|   0|\n",
      "|                     4|    18|            4|   5.0|       4|           4|   0|\n",
      "|                     5|    18|            5|   2.0|       5|           5|   0|\n",
      "|                     6|    18|            6|   1.0|       6|           6|   0|\n",
      "|                     7|    19|            1|  24.0|       1|           1|   1|\n",
      "|                     8|    19|            2|  19.0|       2|           2|   0|\n",
      "|                     9|    19|            3|   9.0|       4|           4|   0|\n",
      "|                    10|    19|            4|   6.0|       5|           5|   0|\n",
      "+----------------------+------+-------------+------+--------+------------+----+\n",
      "only showing top 10 rows\n",
      "\n"
     ]
    }
   ],
   "source": [
    "constructor_standings = sqlc.read.csv('constructor_standings.csv', header = True, inferSchema = True)\n",
    "constructor_standings.createOrReplaceTempView('constructor_standings')\n",
    "\n",
    "constructor_standings.show(10)"
   ]
  },
  {
   "cell_type": "code",
   "execution_count": 9,
   "metadata": {},
   "outputs": [
    {
     "name": "stdout",
     "output_type": "stream",
     "text": [
      "+-------------+--------------+-----------+-----------+--------------------+\n",
      "|constructorId|constructorRef|       name|nationality|                 url|\n",
      "+-------------+--------------+-----------+-----------+--------------------+\n",
      "|            1|       mclaren|    McLaren|    British|http://en.wikiped...|\n",
      "|            2|    bmw_sauber| BMW Sauber|     German|http://en.wikiped...|\n",
      "|            3|      williams|   Williams|    British|http://en.wikiped...|\n",
      "|            4|       renault|    Renault|     French|http://en.wikiped...|\n",
      "|            5|    toro_rosso| Toro Rosso|    Italian|http://en.wikiped...|\n",
      "|            6|       ferrari|    Ferrari|    Italian|http://en.wikiped...|\n",
      "|            7|        toyota|     Toyota|   Japanese|http://en.wikiped...|\n",
      "|            8|   super_aguri|Super Aguri|   Japanese|http://en.wikiped...|\n",
      "|            9|      red_bull|   Red Bull|   Austrian|http://en.wikiped...|\n",
      "|           10|   force_india|Force India|     Indian|http://en.wikiped...|\n",
      "+-------------+--------------+-----------+-----------+--------------------+\n",
      "only showing top 10 rows\n",
      "\n"
     ]
    }
   ],
   "source": [
    "constructors = sqlc.read.csv('constructors.csv', header = True, inferSchema = True)\n",
    "constructors.createOrReplaceTempView('constructors')\n",
    "\n",
    "constructors.show(10)"
   ]
  },
  {
   "cell_type": "code",
   "execution_count": 10,
   "metadata": {},
   "outputs": [
    {
     "name": "stdout",
     "output_type": "stream",
     "text": [
      "+-----------------+------+--------+------+--------+------------+----+\n",
      "|driverStandingsId|raceId|driverId|points|position|positionText|wins|\n",
      "+-----------------+------+--------+------+--------+------------+----+\n",
      "|                1|    18|       1|  10.0|       1|           1|   1|\n",
      "|                2|    18|       2|   8.0|       2|           2|   0|\n",
      "|                3|    18|       3|   6.0|       3|           3|   0|\n",
      "|                4|    18|       4|   5.0|       4|           4|   0|\n",
      "|                5|    18|       5|   4.0|       5|           5|   0|\n",
      "|                6|    18|       6|   3.0|       6|           6|   0|\n",
      "|                7|    18|       7|   2.0|       7|           7|   0|\n",
      "|                8|    18|       8|   1.0|       8|           8|   0|\n",
      "|                9|    19|       1|  14.0|       1|           1|   1|\n",
      "|               10|    19|       2|  11.0|       3|           3|   0|\n",
      "+-----------------+------+--------+------+--------+------------+----+\n",
      "only showing top 10 rows\n",
      "\n"
     ]
    }
   ],
   "source": [
    "driver_standings = sqlc.read.csv('driver_standings.csv', header = True, inferSchema = True)\n",
    "driver_standings.createOrReplaceTempView('driver_standings')\n",
    "\n",
    "driver_standings.show(10)"
   ]
  },
  {
   "cell_type": "code",
   "execution_count": 11,
   "metadata": {},
   "outputs": [
    {
     "name": "stdout",
     "output_type": "stream",
     "text": [
      "+--------+----------+------+----+---------+----------+----------+-----------+--------------------+\n",
      "|driverId| driverRef|number|code| forename|   surname|       dob|nationality|                 url|\n",
      "+--------+----------+------+----+---------+----------+----------+-----------+--------------------+\n",
      "|       1|  hamilton|    44| HAM|    Lewis|  Hamilton|1985-01-07|    British|http://en.wikiped...|\n",
      "|       2|  heidfeld|    \\N| HEI|     Nick|  Heidfeld|1977-05-10|     German|http://en.wikiped...|\n",
      "|       3|   rosberg|     6| ROS|     Nico|   Rosberg|1985-06-27|     German|http://en.wikiped...|\n",
      "|       4|    alonso|    14| ALO| Fernando|    Alonso|1981-07-29|    Spanish|http://en.wikiped...|\n",
      "|       5|kovalainen|    \\N| KOV|   Heikki|Kovalainen|1981-10-19|    Finnish|http://en.wikiped...|\n",
      "|       6|  nakajima|    \\N| NAK|   Kazuki|  Nakajima|1985-01-11|   Japanese|http://en.wikiped...|\n",
      "|       7|  bourdais|    \\N| BOU|Sébastien|  Bourdais|1979-02-28|     French|http://en.wikiped...|\n",
      "|       8| raikkonen|     7| RAI|     Kimi| Räikkönen|1979-10-17|    Finnish|http://en.wikiped...|\n",
      "|       9|    kubica|    88| KUB|   Robert|    Kubica|1984-12-07|     Polish|http://en.wikiped...|\n",
      "|      10|     glock|    \\N| GLO|     Timo|     Glock|1982-03-18|     German|http://en.wikiped...|\n",
      "+--------+----------+------+----+---------+----------+----------+-----------+--------------------+\n",
      "only showing top 10 rows\n",
      "\n"
     ]
    }
   ],
   "source": [
    "drivers = sqlc.read.csv('drivers.csv', header = True, inferSchema = True)\n",
    "drivers.createOrReplaceTempView('drivers')\n",
    "\n",
    "drivers.show(10)"
   ]
  },
  {
   "cell_type": "code",
   "execution_count": 12,
   "metadata": {},
   "outputs": [
    {
     "name": "stdout",
     "output_type": "stream",
     "text": [
      "+------+--------+---+--------+--------+------------+\n",
      "|raceId|driverId|lap|position|    time|milliseconds|\n",
      "+------+--------+---+--------+--------+------------+\n",
      "|   841|      20|  1|       1|1:38.109|       98109|\n",
      "|   841|      20|  2|       1|1:33.006|       93006|\n",
      "|   841|      20|  3|       1|1:32.713|       92713|\n",
      "|   841|      20|  4|       1|1:32.803|       92803|\n",
      "|   841|      20|  5|       1|1:32.342|       92342|\n",
      "|   841|      20|  6|       1|1:32.605|       92605|\n",
      "|   841|      20|  7|       1|1:32.502|       92502|\n",
      "|   841|      20|  8|       1|1:32.537|       92537|\n",
      "|   841|      20|  9|       1|1:33.240|       93240|\n",
      "|   841|      20| 10|       1|1:32.572|       92572|\n",
      "+------+--------+---+--------+--------+------------+\n",
      "only showing top 10 rows\n",
      "\n"
     ]
    }
   ],
   "source": [
    "lap_times = sqlc.read.csv('lap_times.csv', header = True, inferSchema = True)\n",
    "lap_times.createOrReplaceTempView('lap_times')\n",
    "\n",
    "lap_times.show(10)"
   ]
  },
  {
   "cell_type": "code",
   "execution_count": 13,
   "metadata": {
    "collapsed": true,
    "jupyter": {
     "outputs_hidden": true
    }
   },
   "outputs": [
    {
     "name": "stdout",
     "output_type": "stream",
     "text": [
      "+------+--------+----+---+--------+--------+------------+\n",
      "|raceId|driverId|stop|lap|    time|duration|milliseconds|\n",
      "+------+--------+----+---+--------+--------+------------+\n",
      "|   841|     153|   1|  1|17:05:23|  26.898|       26898|\n",
      "|   841|      30|   1|  1|17:05:52|  25.021|       25021|\n",
      "|   841|      17|   1| 11|17:20:48|  23.426|       23426|\n",
      "|   841|       4|   1| 12|17:22:34|  23.251|       23251|\n",
      "|   841|      13|   1| 13|17:24:10|  23.842|       23842|\n",
      "|   841|      22|   1| 13|17:24:29|  23.643|       23643|\n",
      "|   841|      20|   1| 14|17:25:17|  22.603|       22603|\n",
      "|   841|     814|   1| 14|17:26:03|  24.863|       24863|\n",
      "|   841|     816|   1| 14|17:26:50|  25.259|       25259|\n",
      "|   841|      67|   1| 15|17:27:34|  25.342|       25342|\n",
      "+------+--------+----+---+--------+--------+------------+\n",
      "only showing top 10 rows\n",
      "\n"
     ]
    }
   ],
   "source": [
    "pit_stops = sqlc.read.csv('pit_stops.csv', header = True, inferSchema = True)\n",
    "pit_stops.createOrReplaceTempView('pit_stops')\n",
    "\n",
    "pit_stops.show(10)"
   ]
  },
  {
   "cell_type": "code",
   "execution_count": 14,
   "metadata": {},
   "outputs": [
    {
     "name": "stdout",
     "output_type": "stream",
     "text": [
      "+---------+------+--------+-------------+------+--------+--------+--------+--------+\n",
      "|qualifyId|raceId|driverId|constructorId|number|position|      q1|      q2|      q3|\n",
      "+---------+------+--------+-------------+------+--------+--------+--------+--------+\n",
      "|        1|    18|       1|            1|    22|       1|1:26.572|1:25.187|1:26.714|\n",
      "|        2|    18|       9|            2|     4|       2|1:26.103|1:25.315|1:26.869|\n",
      "|        3|    18|       5|            1|    23|       3|1:25.664|1:25.452|1:27.079|\n",
      "|        4|    18|      13|            6|     2|       4|1:25.994|1:25.691|1:27.178|\n",
      "|        5|    18|       2|            2|     3|       5|1:25.960|1:25.518|1:27.236|\n",
      "|        6|    18|      15|            7|    11|       6|1:26.427|1:26.101|1:28.527|\n",
      "|        7|    18|       3|            3|     7|       7|1:26.295|1:26.059|1:28.687|\n",
      "|        8|    18|      14|            9|     9|       8|1:26.381|1:26.063|1:29.041|\n",
      "|        9|    18|      10|            7|    12|       9|1:26.919|1:26.164|1:29.593|\n",
      "|       10|    18|      20|            5|    15|      10|1:26.702|1:25.842|      \\N|\n",
      "+---------+------+--------+-------------+------+--------+--------+--------+--------+\n",
      "only showing top 10 rows\n",
      "\n"
     ]
    }
   ],
   "source": [
    "qualifying = sqlc.read.csv('qualifying.csv', header = True, inferSchema = True)\n",
    "qualifying.createOrReplaceTempView('qualifying')\n",
    "\n",
    "qualifying.show(10)"
   ]
  },
  {
   "cell_type": "code",
   "execution_count": 15,
   "metadata": {},
   "outputs": [
    {
     "name": "stdout",
     "output_type": "stream",
     "text": [
      "+------+----+-----+---------+--------------------+----------+--------+--------------------+\n",
      "|raceId|year|round|circuitId|                name|      date|    time|                 url|\n",
      "+------+----+-----+---------+--------------------+----------+--------+--------------------+\n",
      "|     1|2009|    1|        1|Australian Grand ...|2009-03-29|06:00:00|http://en.wikiped...|\n",
      "|     2|2009|    2|        2|Malaysian Grand Prix|2009-04-05|09:00:00|http://en.wikiped...|\n",
      "|     3|2009|    3|       17|  Chinese Grand Prix|2009-04-19|07:00:00|http://en.wikiped...|\n",
      "|     4|2009|    4|        3|  Bahrain Grand Prix|2009-04-26|12:00:00|http://en.wikiped...|\n",
      "|     5|2009|    5|        4|  Spanish Grand Prix|2009-05-10|12:00:00|http://en.wikiped...|\n",
      "|     6|2009|    6|        6|   Monaco Grand Prix|2009-05-24|12:00:00|http://en.wikiped...|\n",
      "|     7|2009|    7|        5|  Turkish Grand Prix|2009-06-07|12:00:00|http://en.wikiped...|\n",
      "|     8|2009|    8|        9|  British Grand Prix|2009-06-21|12:00:00|http://en.wikiped...|\n",
      "|     9|2009|    9|       20|   German Grand Prix|2009-07-12|12:00:00|http://en.wikiped...|\n",
      "|    10|2009|   10|       11|Hungarian Grand Prix|2009-07-26|12:00:00|http://en.wikiped...|\n",
      "+------+----+-----+---------+--------------------+----------+--------+--------------------+\n",
      "only showing top 10 rows\n",
      "\n"
     ]
    }
   ],
   "source": [
    "races = sqlc.read.csv('races.csv', header = True, inferSchema = True)\n",
    "races.createOrReplaceTempView('races')\n",
    "\n",
    "races.show(10)"
   ]
  },
  {
   "cell_type": "code",
   "execution_count": 16,
   "metadata": {},
   "outputs": [
    {
     "name": "stdout",
     "output_type": "stream",
     "text": [
      "+--------+------+--------+-------------+------+----+--------+------------+-------------+------+----+-----------+------------+----------+----+--------------+---------------+--------+\n",
      "|resultId|raceId|driverId|constructorId|number|grid|position|positionText|positionOrder|points|laps|       time|milliseconds|fastestLap|rank|fastestLapTime|fastestLapSpeed|statusId|\n",
      "+--------+------+--------+-------------+------+----+--------+------------+-------------+------+----+-----------+------------+----------+----+--------------+---------------+--------+\n",
      "|       1|    18|       1|            1|    22|   1|       1|           1|            1|  10.0|  58|1:34:50.616|     5690616|        39|   2|      1:27.452|        218.300|       1|\n",
      "|       2|    18|       2|            2|     3|   5|       2|           2|            2|   8.0|  58|     +5.478|     5696094|        41|   3|      1:27.739|        217.586|       1|\n",
      "|       3|    18|       3|            3|     7|   7|       3|           3|            3|   6.0|  58|     +8.163|     5698779|        41|   5|      1:28.090|        216.719|       1|\n",
      "|       4|    18|       4|            4|     5|  11|       4|           4|            4|   5.0|  58|    +17.181|     5707797|        58|   7|      1:28.603|        215.464|       1|\n",
      "|       5|    18|       5|            1|    23|   3|       5|           5|            5|   4.0|  58|    +18.014|     5708630|        43|   1|      1:27.418|        218.385|       1|\n",
      "|       6|    18|       6|            3|     8|  13|       6|           6|            6|   3.0|  57|         \\N|          \\N|        50|  14|      1:29.639|        212.974|      11|\n",
      "|       7|    18|       7|            5|    14|  17|       7|           7|            7|   2.0|  55|         \\N|          \\N|        22|  12|      1:29.534|        213.224|       5|\n",
      "|       8|    18|       8|            6|     1|  15|       8|           8|            8|   1.0|  53|         \\N|          \\N|        20|   4|      1:27.903|        217.180|       5|\n",
      "|       9|    18|       9|            2|     4|   2|      \\N|           R|            9|   0.0|  47|         \\N|          \\N|        15|   9|      1:28.753|        215.100|       4|\n",
      "|      10|    18|      10|            7|    12|  18|      \\N|           R|           10|   0.0|  43|         \\N|          \\N|        23|  13|      1:29.558|        213.166|       3|\n",
      "+--------+------+--------+-------------+------+----+--------+------------+-------------+------+----+-----------+------------+----------+----+--------------+---------------+--------+\n",
      "only showing top 10 rows\n",
      "\n"
     ]
    }
   ],
   "source": [
    "results = sqlc.read.csv('results.csv', header = True, inferSchema = True)\n",
    "results.createOrReplaceTempView('results')\n",
    "\n",
    "results.show(10)"
   ]
  },
  {
   "cell_type": "code",
   "execution_count": 17,
   "metadata": {},
   "outputs": [
    {
     "name": "stdout",
     "output_type": "stream",
     "text": [
      "+----+--------------------+\n",
      "|year|                 url|\n",
      "+----+--------------------+\n",
      "|2009|https://en.wikipe...|\n",
      "|2008|https://en.wikipe...|\n",
      "|2007|https://en.wikipe...|\n",
      "|2006|https://en.wikipe...|\n",
      "|2005|https://en.wikipe...|\n",
      "|2004|https://en.wikipe...|\n",
      "|2003|https://en.wikipe...|\n",
      "|2002|https://en.wikipe...|\n",
      "|2001|https://en.wikipe...|\n",
      "|2000|https://en.wikipe...|\n",
      "+----+--------------------+\n",
      "only showing top 10 rows\n",
      "\n"
     ]
    }
   ],
   "source": [
    "seasons = sqlc.read.csv('seasons.csv', header = True, inferSchema = True)\n",
    "seasons.createOrReplaceTempView('seasons')\n",
    "\n",
    "seasons.show(10)"
   ]
  },
  {
   "cell_type": "code",
   "execution_count": 18,
   "metadata": {},
   "outputs": [
    {
     "name": "stdout",
     "output_type": "stream",
     "text": [
      "+--------+------------+\n",
      "|statusId|      status|\n",
      "+--------+------------+\n",
      "|       1|    Finished|\n",
      "|       2|Disqualified|\n",
      "|       3|    Accident|\n",
      "|       4|   Collision|\n",
      "|       5|      Engine|\n",
      "|       6|     Gearbox|\n",
      "|       7|Transmission|\n",
      "|       8|      Clutch|\n",
      "|       9|  Hydraulics|\n",
      "|      10|  Electrical|\n",
      "+--------+------------+\n",
      "only showing top 10 rows\n",
      "\n"
     ]
    }
   ],
   "source": [
    "status = sqlc.read.csv('status.csv', header = True, inferSchema = True)\n",
    "status.createOrReplaceTempView('status')\n",
    "\n",
    "status.show(10)"
   ]
  },
  {
   "cell_type": "markdown",
   "metadata": {},
   "source": [
    "## Data analysis \n",
    "\n",
    "### Which constuctors have the highest number and percentage or retirements?\n",
    "\n",
    "The first thing we need to do is create a table with the races and the finishes for each team. "
   ]
  },
  {
   "cell_type": "code",
   "execution_count": 19,
   "metadata": {},
   "outputs": [],
   "source": [
    "reliability = sqlc.sql(\"\"\"\n",
    "    SELECT constructors.name, status.statusId, status.status, (SELECT COUNT(*) FROM results GROUP BY constructorId) AS total_races\n",
    "    FROM status, results, constructors \n",
    "    WHERE constructors.constructorId == results.constructorId\n",
    "        AND status.statusId == results.statusId\n",
    "        AND status.status NOT LIKE 'Finished'\n",
    "        AND status.status NOT LIKE '%Lap%'\n",
    "\"\"\")\n",
    "reliability.createOrReplaceTempView('reliability')"
   ]
  },
  {
   "cell_type": "code",
   "execution_count": 20,
   "metadata": {},
   "outputs": [],
   "source": [
    "total_races = sqlc.sql(\"\"\"\n",
    "    SELECT constructors.name, count(*) AS total_races\n",
    "    FROM constructors, results\n",
    "    WHERE constructors.constructorId == results.constructorId\n",
    "    GROUP BY name\n",
    "    ORDER BY total_races DESC\n",
    "\"\"\")\n",
    "total_races.createOrReplaceTempView('total_races')"
   ]
  },
  {
   "cell_type": "code",
   "execution_count": 21,
   "metadata": {},
   "outputs": [
    {
     "name": "stdout",
     "output_type": "stream",
     "text": [
      "+-----------+-----------+\n",
      "|       name|total_races|\n",
      "+-----------+-----------+\n",
      "|    Ferrari|       2277|\n",
      "|    McLaren|       1761|\n",
      "|   Williams|       1515|\n",
      "|    Tyrrell|        881|\n",
      "| Team Lotus|        871|\n",
      "|     Sauber|        789|\n",
      "|    Renault|        787|\n",
      "|    Minardi|        672|\n",
      "|    Brabham|        662|\n",
      "|   Red Bull|        626|\n",
      "|     Ligier|        611|\n",
      "|     Arrows|        590|\n",
      "|        BRM|        562|\n",
      "| Toro Rosso|        536|\n",
      "|      March|        524|\n",
      "|   Benetton|        520|\n",
      "|     Jordan|        500|\n",
      "|   Mercedes|        490|\n",
      "|   Maserati|        436|\n",
      "|Force India|        424|\n",
      "+-----------+-----------+\n",
      "only showing top 20 rows\n",
      "\n"
     ]
    }
   ],
   "source": [
    "sqlc.sql(\"\"\"\n",
    "    SELECT * \n",
    "    FROM total_races\n",
    "\"\"\").show()"
   ]
  },
  {
   "cell_type": "markdown",
   "metadata": {},
   "source": [
    "Ferrari is by far the team with the most races in the history of F1, closely followed by Williams and McLaren. These top 3 teams are all still active. And while teams are bought and race under the different names, we are going to consider them as being different teams for the purpose of this analysis. For example, Alpine previously raced under the name Renault and Lotus F1, and was founded as Benetton. So we are going to treat them as being 4 separate teams, the same goes for all the other teams that have raced in F1. "
   ]
  },
  {
   "cell_type": "code",
   "execution_count": 22,
   "metadata": {},
   "outputs": [
    {
     "name": "stdout",
     "output_type": "stream",
     "text": [
      "+---------+---------------------+----------+\n",
      "|   status|number_of_retirements|      name|\n",
      "+---------+---------------------+----------+\n",
      "|   Engine|                  163|   Ferrari|\n",
      "|   Engine|                  126|   McLaren|\n",
      "|   Engine|                   99|   Tyrrell|\n",
      "|   Engine|                   95|Team Lotus|\n",
      "| Accident|                   93|   Ferrari|\n",
      "|   Engine|                   87|       BRM|\n",
      "|   Engine|                   80|  Williams|\n",
      "|   Engine|                   80|   Brabham|\n",
      "|Collision|                   72|  Williams|\n",
      "|Collision|                   70|   McLaren|\n",
      "+---------+---------------------+----------+\n",
      "only showing top 10 rows\n",
      "\n"
     ]
    }
   ],
   "source": [
    "sqlc.sql(\"\"\"\n",
    "    SELECT status, count(*) AS number_of_retirements, name\n",
    "    FROM reliability \n",
    "    GROUP BY name, status\n",
    "    ORDER BY number_of_retirements DESC\n",
    "\"\"\").show(10)"
   ]
  },
  {
   "cell_type": "markdown",
   "metadata": {},
   "source": [
    "We can first look for the retirement reasons that feature the most often, and then find the teams to which these happen the most. "
   ]
  },
  {
   "cell_type": "code",
   "execution_count": 23,
   "metadata": {},
   "outputs": [
    {
     "name": "stdout",
     "output_type": "stream",
     "text": [
      "+------------------+--------+\n",
      "|            status|count(1)|\n",
      "+------------------+--------+\n",
      "|            Engine|    2003|\n",
      "|          Accident|    1033|\n",
      "|   Did not qualify|    1025|\n",
      "|         Collision|     809|\n",
      "|           Gearbox|     798|\n",
      "|          Spun off|     790|\n",
      "|        Suspension|     428|\n",
      "|Did not prequalify|     331|\n",
      "|      Transmission|     321|\n",
      "|        Electrical|     315|\n",
      "|            Brakes|     248|\n",
      "|          Withdrew|     243|\n",
      "|            Clutch|     214|\n",
      "|    Not classified|     172|\n",
      "|       Fuel system|     155|\n",
      "|             Turbo|     145|\n",
      "|      Disqualified|     142|\n",
      "|        Hydraulics|     133|\n",
      "|       Overheating|     130|\n",
      "|          Ignition|     128|\n",
      "+------------------+--------+\n",
      "only showing top 20 rows\n",
      "\n"
     ]
    }
   ],
   "source": [
    "sqlc.sql(\"\"\"\n",
    "    SELECT status, count(*)\n",
    "    FROM reliability \n",
    "    GROUP BY status\n",
    "    ORDER BY count(*) DESC\n",
    "\"\"\").show()"
   ]
  },
  {
   "cell_type": "markdown",
   "metadata": {},
   "source": [
    "Engine issues seem to be the biggest in F1, with over 2000 retirements because of engine failure. The second and third most prevalent DNF reasons are accidents and failing to qualify for the race. Both of these retirements only happened 1000 times, the gap between engine failures and the rest of the DNF reasons show just how much engines are prone to failure in a race. "
   ]
  },
  {
   "cell_type": "code",
   "execution_count": 24,
   "metadata": {},
   "outputs": [
    {
     "name": "stdout",
     "output_type": "stream",
     "text": [
      "+----------+-----+\n",
      "|      name|count|\n",
      "+----------+-----+\n",
      "|   Ferrari|  163|\n",
      "|   McLaren|  126|\n",
      "|   Tyrrell|   99|\n",
      "|Team Lotus|   95|\n",
      "|       BRM|   87|\n",
      "|  Williams|   80|\n",
      "|   Brabham|   80|\n",
      "|  Maserati|   68|\n",
      "|   Minardi|   63|\n",
      "|    Ligier|   62|\n",
      "+----------+-----+\n",
      "only showing top 10 rows\n",
      "\n"
     ]
    }
   ],
   "source": [
    "reliability \\\n",
    "    .filter(\"status == 'Engine'\") \\\n",
    "    .groupBy('name') \\\n",
    "    .count() \\\n",
    "    .orderBy('count', ascending = False) \\\n",
    "    .show(10)"
   ]
  },
  {
   "cell_type": "markdown",
   "metadata": {},
   "source": [
    "As expected, the teams with the most number of races also have the most number of engine failures. What is interesting is that Williams has nearly half as many engine failures as Ferrari, and two thirds as many as McLaren, despite having entered almost as many races as the latter. \n",
    "\n",
    "We are now going to look at engine failures as a percentage of races entered, this should give us a better idea of reliability. We are only going to consider teams with more than 50 races under their belt, since any less than that and one engine failure will account for a large percentage of the races they entered. "
   ]
  },
  {
   "cell_type": "code",
   "execution_count": 25,
   "metadata": {},
   "outputs": [],
   "source": [
    "engine_failures = sqlc.sql(\"\"\"\n",
    "       SELECT name, count(*) AS engine_failures \n",
    "       FROM reliability \n",
    "       WHERE status == 'Engine'\n",
    "       GROUP BY name\n",
    "       ORDER BY engine_failures DESC\n",
    "\"\"\")\n",
    "engine_failures.createOrReplaceTempView('engine_failures')"
   ]
  },
  {
   "cell_type": "code",
   "execution_count": 26,
   "metadata": {},
   "outputs": [
    {
     "name": "stdout",
     "output_type": "stream",
     "text": [
      "+------------------+---------------+-----------+------------------+\n",
      "|              name|engine_failures|total_races|        percentage|\n",
      "+------------------+---------------+-----------+------------------+\n",
      "|           Vanwall|             16|         71|22.535211267605636|\n",
      "|      Leyton House|             14|         64|            21.875|\n",
      "|     Brabham-Repco|             14|         77|18.181818181818183|\n",
      "|           Stewart|             17|         98|17.346938775510203|\n",
      "|         Larrousse|             36|        216|16.666666666666664|\n",
      "|           Dallara|             23|        144|15.972222222222221|\n",
      "|   Cooper-Maserati|             21|        134|15.671641791044777|\n",
      "|          Maserati|             68|        436| 15.59633027522936|\n",
      "|               BRM|             87|        562|15.480427046263346|\n",
      "|Brabham-Alfa Romeo|              9|         59|15.254237288135593|\n",
      "+------------------+---------------+-----------+------------------+\n",
      "only showing top 10 rows\n",
      "\n"
     ]
    }
   ],
   "source": [
    "sqlc.sql(\"\"\"\n",
    "    SELECT engine_failures.name, engine_failures.engine_failures, total_races.total_races, (engine_failures / total_races * 100) AS percentage\n",
    "    FROM total_races, engine_failures\n",
    "    WHERE engine_failures.name == total_races.name AND total_races > 50\n",
    "    ORDER BY percentage DESC\n",
    "\"\"\").show(10)"
   ]
  },
  {
   "cell_type": "markdown",
   "metadata": {},
   "source": [
    "Here we can see a list of the manufacturers with the highest percentage of engine failures by raced entered. We can also see the teams that have had the least engine failures as a percentage of races entered: "
   ]
  },
  {
   "cell_type": "code",
   "execution_count": 27,
   "metadata": {},
   "outputs": [
    {
     "name": "stdout",
     "output_type": "stream",
     "text": [
      "+------------+---------------+-----------+------------------+\n",
      "|        name|engine_failures|total_races|        percentage|\n",
      "+------------+---------------+-----------+------------------+\n",
      "|    Caterham|              1|        112|0.8928571428571428|\n",
      "|Haas F1 Team|              2|        218|0.9174311926605505|\n",
      "|      Virgin|              1|         76|1.3157894736842104|\n",
      "|    Mercedes|              7|        490|1.4285714285714286|\n",
      "|     Pacific|              1|         66|1.5151515151515151|\n",
      "| Force India|              7|        424| 1.650943396226415|\n",
      "|         HRT|              2|        116|1.7241379310344827|\n",
      "|    Red Bull|             11|        626|1.7571884984025559|\n",
      "|  AlphaTauri|              1|         52|1.9230769230769231|\n",
      "|    Lotus F1|              3|        154| 1.948051948051948|\n",
      "+------------+---------------+-----------+------------------+\n",
      "only showing top 10 rows\n",
      "\n"
     ]
    }
   ],
   "source": [
    "sqlc.sql(\"\"\"\n",
    "    SELECT engine_failures.name, engine_failures.engine_failures, total_races.total_races, (engine_failures / total_races * 100) AS percentage\n",
    "    FROM total_races, engine_failures\n",
    "    WHERE engine_failures.name == total_races.name AND total_races > 50\n",
    "    ORDER BY percentage ASC\n",
    "\"\"\").show(10)"
   ]
  },
  {
   "cell_type": "markdown",
   "metadata": {},
   "source": [
    "Many of the manufacturers that feature in the list of best engine reliability are active in the turbo-hybrid era. We can see that there is a significant increase in engine reliability in recent seasons. To dig a little deeper into this, we can find the most engine failures by season, as opposed to by team. "
   ]
  },
  {
   "cell_type": "code",
   "execution_count": 28,
   "metadata": {},
   "outputs": [],
   "source": [
    "DNF_by_year = sqlc.sql(\"\"\"\n",
    "    SELECT results.raceId, races.year, results.constructorId, status.status\n",
    "    FROM races, results, status\n",
    "    WHERE results.raceId == races.raceId\n",
    "        AND status.statusId == results.statusId\n",
    "        AND status NOT LIKE 'Finished'\n",
    "        AND status NOT LIKE '%Lap%'\n",
    "\"\"\")\n",
    "DNF_by_year.createOrReplaceTempView('DNF_by_year')"
   ]
  },
  {
   "cell_type": "code",
   "execution_count": 29,
   "metadata": {},
   "outputs": [],
   "source": [
    "engine_failures_by_year = sqlc.sql(\"\"\"\n",
    "    SELECT year, count(*) AS engine_failures\n",
    "    FROM DNF_by_year\n",
    "    WHERE status LIKE 'Engine'\n",
    "    GROUP BY year\n",
    "    ORDER BY year ASC\n",
    "\"\"\").toPandas()"
   ]
  },
  {
   "cell_type": "code",
   "execution_count": 30,
   "metadata": {},
   "outputs": [
    {
     "data": {
      "text/plain": [
       "<AxesSubplot:xlabel='year', ylabel='engine_failures'>"
      ]
     },
     "execution_count": 30,
     "metadata": {},
     "output_type": "execute_result"
    },
    {
     "data": {
      "image/png": "[encoded data removed]",
      "text/plain": [
       "<Figure size 432x288 with 1 Axes>"
      ]
     },
     "metadata": {
      "needs_background": "light"
     },
     "output_type": "display_data"
    }
   ],
   "source": [
    "engine_failures_by_year.plot.scatter(x = 'year', y = 'engine_failures')"
   ]
  },
  {
   "cell_type": "markdown",
   "metadata": {},
   "source": [
    "As perviously hypothesized, it seems that engine reliability is much better than it used to be. We do, however, see an increase in engine failures that starts from the 1970s and peaks in the early 90s. \n",
    "\n",
    "We are now going to run the same type of analysis on accidents, and we can see the accident rates of each team. "
   ]
  },
  {
   "cell_type": "code",
   "execution_count": 31,
   "metadata": {},
   "outputs": [],
   "source": [
    "accidents = sqlc.sql(\"\"\"\n",
    "    SELECT name, count(*) AS accident_count\n",
    "    FROM reliability \n",
    "    WHERE status == 'Accident'\n",
    "    GROUP BY name\n",
    "\"\"\")\n",
    "accidents.createOrReplaceTempView('accidents')"
   ]
  },
  {
   "cell_type": "code",
   "execution_count": 32,
   "metadata": {},
   "outputs": [
    {
     "name": "stdout",
     "output_type": "stream",
     "text": [
      "+--------------------+--------------+\n",
      "|                name|accident_count|\n",
      "+--------------------+--------------+\n",
      "|              Shadow|            21|\n",
      "|               Simca|             2|\n",
      "|        Leyton House|             1|\n",
      "|            Politoys|             1|\n",
      "|Lotus-Pratt &amp;...|             1|\n",
      "|                Lola|            12|\n",
      "|      Brabham-Climax|             1|\n",
      "|              Jaguar|             5|\n",
      "|                Wolf|            13|\n",
      "|            Parnelli|             2|\n",
      "+--------------------+--------------+\n",
      "only showing top 10 rows\n",
      "\n"
     ]
    }
   ],
   "source": [
    "accidents.show(10)"
   ]
  },
  {
   "cell_type": "code",
   "execution_count": 33,
   "metadata": {},
   "outputs": [
    {
     "name": "stdout",
     "output_type": "stream",
     "text": [
      "+------------+-----------+--------------+------------------+\n",
      "|        name|total_races|accident_count|        percentage|\n",
      "+------------+-----------+--------------+------------------+\n",
      "|Kurtis Kraft|        226|            29|12.831858407079647|\n",
      "|      Shadow|        211|            21|  9.95260663507109|\n",
      "|     Surtees|        260|            25| 9.615384615384617|\n",
      "|      Ensign|        154|            12| 7.792207792207792|\n",
      "|   Lotus-BRM|        121|             9|  7.43801652892562|\n",
      "|        Lola|        165|            12|7.2727272727272725|\n",
      "|       March|        524|            38| 7.251908396946565|\n",
      "|     Gordini|        102|             6|  5.88235294117647|\n",
      "|      Cooper|        103|             6| 5.825242718446602|\n",
      "|         BRM|        562|            32|5.6939501779359425|\n",
      "+------------+-----------+--------------+------------------+\n",
      "only showing top 10 rows\n",
      "\n"
     ]
    }
   ],
   "source": [
    "sqlc.sql(\"\"\"\n",
    "    SELECT accidents.name, total_races, accident_count, (accident_count / total_races * 100) AS percentage\n",
    "    FROM total_races, accidents \n",
    "    WHERE accidents.name == total_races.name AND total_races > 100\n",
    "    ORDER BY percentage DESC\n",
    "\"\"\").show(10)"
   ]
  },
  {
   "cell_type": "code",
   "execution_count": 34,
   "metadata": {},
   "outputs": [
    {
     "name": "stdout",
     "output_type": "stream",
     "text": [
      "+----------+-----+\n",
      "|      name|count|\n",
      "+----------+-----+\n",
      "|   Minardi|   60|\n",
      "|   Ferrari|   45|\n",
      "|Team Lotus|   41|\n",
      "|   McLaren|   36|\n",
      "|  Williams|   34|\n",
      "|   Tyrrell|   33|\n",
      "|   Brabham|   30|\n",
      "|    Jordan|   25|\n",
      "|       BRM|   24|\n",
      "|    Arrows|   23|\n",
      "+----------+-----+\n",
      "only showing top 10 rows\n",
      "\n"
     ]
    }
   ],
   "source": [
    "reliability \\\n",
    "    .filter(\"status == 'Gearbox'\") \\\n",
    "    .groupBy('name') \\\n",
    "    .count() \\\n",
    "    .orderBy('count', ascending = False) \\\n",
    "    .show(10)"
   ]
  },
  {
   "cell_type": "code",
   "execution_count": 35,
   "metadata": {},
   "outputs": [],
   "source": [
    "gearbox = sqlc.sql(\"\"\"\n",
    "    SELECT name, count(*) AS gearbox_failures \n",
    "    FROM reliability \n",
    "    WHERE status == 'Gearbox'\n",
    "    GROUP BY name \n",
    "\"\"\")\n",
    "gearbox.createOrReplaceTempView('gearbox')"
   ]
  },
  {
   "cell_type": "code",
   "execution_count": 36,
   "metadata": {},
   "outputs": [
    {
     "name": "stdout",
     "output_type": "stream",
     "text": [
      "+---------------+-----------+----------------+------------------+\n",
      "|           name|total_races|gearbox_failures|        percentage|\n",
      "+---------------+-----------+----------------+------------------+\n",
      "|      Lotus-BRM|        121|              14|11.570247933884298|\n",
      "|        Minardi|        672|              60| 8.928571428571429|\n",
      "|       Zakspeed|        133|              10| 7.518796992481203|\n",
      "|Cooper-Maserati|        134|               9|6.7164179104477615|\n",
      "|       Footwork|        194|              13| 6.701030927835052|\n",
      "|  Cooper-Climax|        268|              16| 5.970149253731343|\n",
      "|        Dallara|        144|               8| 5.555555555555555|\n",
      "|           Lola|        165|               9| 5.454545454545454|\n",
      "|         Jaguar|        170|               9| 5.294117647058823|\n",
      "|            BAR|        236|              12| 5.084745762711865|\n",
      "+---------------+-----------+----------------+------------------+\n",
      "only showing top 10 rows\n",
      "\n"
     ]
    }
   ],
   "source": [
    "sqlc.sql(\"\"\"\n",
    "    SELECT gearbox.name, total_races, gearbox_failures, (gearbox_failures / total_races * 100) AS percentage \n",
    "    FROM gearbox, total_races\n",
    "    WHERE gearbox.name == total_races.name AND total_races > 100\n",
    "    ORDER BY percentage DESC\n",
    "\"\"\").show(10)"
   ]
  },
  {
   "cell_type": "code",
   "execution_count": 37,
   "metadata": {},
   "outputs": [],
   "source": [
    "suspension = sqlc.sql(\"\"\"\n",
    "    SELECT name, count(*) AS suspension_failures \n",
    "    FROM reliability \n",
    "    WHERE status == 'Suspension'\n",
    "    GROUP BY name\n",
    "\"\"\")\n",
    "suspension.createOrReplaceTempView('suspension')"
   ]
  },
  {
   "cell_type": "code",
   "execution_count": 38,
   "metadata": {},
   "outputs": [
    {
     "name": "stdout",
     "output_type": "stream",
     "text": [
      "+------------+-----------+-------------------+------------------+\n",
      "|        name|total_races|suspension_failures|        percentage|\n",
      "+------------+-----------+-------------------+------------------+\n",
      "|     Surtees|        260|                 16| 6.153846153846154|\n",
      "|  Lotus-Ford|        128|                  7|           5.46875|\n",
      "|        Lola|        165|                  7| 4.242424242424243|\n",
      "|     Gordini|        102|                  4|3.9215686274509802|\n",
      "|Lotus-Climax|        233|                  9| 3.862660944206009|\n",
      "|      Osella|        252|                  9| 3.571428571428571|\n",
      "|       March|        524|                 18| 3.435114503816794|\n",
      "|      Arrows|        590|                 20| 3.389830508474576|\n",
      "|      Shadow|        211|                  7|3.3175355450236967|\n",
      "|   Lotus-BRM|        121|                  4|3.3057851239669422|\n",
      "+------------+-----------+-------------------+------------------+\n",
      "only showing top 10 rows\n",
      "\n"
     ]
    }
   ],
   "source": [
    "sqlc.sql(\"\"\"\n",
    "    SELECT suspension.name, total_races, suspension_failures, (suspension_failures / total_races * 100) AS percentage\n",
    "    FROM suspension, total_races \n",
    "    WHERE suspension.name == total_races.name  AND total_races > 100\n",
    "    ORDER BY percentage DESC\n",
    "\"\"\").show(10)"
   ]
  },
  {
   "cell_type": "markdown",
   "metadata": {},
   "source": [
    "## Driver accident rates \n",
    "\n",
    "Being able to stay away from accidents is one of the main things that define good F1 drivers. They must learn how to be aggressive, and push their rivals to the maximum, while also leaving enough room to make sure that they do not get into an accident. \n",
    "We will now take a look at the drives who have gotten into the most accidents, we will also see it as a percentage of races entered. "
   ]
  },
  {
   "cell_type": "code",
   "execution_count": 39,
   "metadata": {},
   "outputs": [],
   "source": [
    "driver_finishes = sqlc.sql(\"\"\"\n",
    "    SELECT results.position as race_position, concat(forename,' ', surname) AS driver_name, status\n",
    "    FROM results, drivers, status \n",
    "    WHERE results.driverId == drivers.driverId AND results.statusId == status.statusId\n",
    "\"\"\")\n",
    "driver_finishes.createOrReplaceTempView('driver_finishes')\n",
    "\n",
    "accidents = sqlc.sql(\"\"\"\n",
    "    SELECT driver_name, count(*) AS number_of_accidents \n",
    "    FROM driver_finishes \n",
    "    WHERE status == 'Accident'\n",
    "    GROUP BY driver_name\n",
    "\"\"\")\n",
    "accidents.createOrReplaceTempView('accidents')\n",
    "\n",
    "driver_races = sqlc.sql(\"\"\"\n",
    "    SELECT driver_name, count(*) AS number_of_races\n",
    "    FROM driver_finishes \n",
    "    GROUP BY driver_name\n",
    "    ORDER BY number_of_races DESC\n",
    "\"\"\")\n",
    "driver_races.createOrReplaceTempView('driver_races')"
   ]
  },
  {
   "cell_type": "code",
   "execution_count": 40,
   "metadata": {},
   "outputs": [
    {
     "name": "stdout",
     "output_type": "stream",
     "text": [
      "+------------------+---------------+\n",
      "|       driver_name|number_of_races|\n",
      "+------------------+---------------+\n",
      "|    Kimi Räikkönen|            341|\n",
      "|Rubens Barrichello|            326|\n",
      "|   Fernando Alonso|            323|\n",
      "|     Jenson Button|            309|\n",
      "|Michael Schumacher|            308|\n",
      "|    Lewis Hamilton|            275|\n",
      "|      Felipe Massa|            271|\n",
      "|  Sebastian Vettel|            267|\n",
      "|  Riccardo Patrese|            257|\n",
      "|      Jarno Trulli|            256|\n",
      "+------------------+---------------+\n",
      "only showing top 10 rows\n",
      "\n"
     ]
    }
   ],
   "source": [
    "driver_races.show(10)"
   ]
  },
  {
   "cell_type": "code",
   "execution_count": 41,
   "metadata": {},
   "outputs": [
    {
     "name": "stdout",
     "output_type": "stream",
     "text": [
      "+------------------+-------------------+\n",
      "|driver_name       |number_of_accidents|\n",
      "+------------------+-------------------+\n",
      "|Piercarlo Ghinzani|6                  |\n",
      "|Richie Ginther    |3                  |\n",
      "|Bill Vukovich     |1                  |\n",
      "|François Cevert   |5                  |\n",
      "|Hector Rebaque    |4                  |\n",
      "|Lella Lombardi    |1                  |\n",
      "|Innes Ireland     |5                  |\n",
      "|Ray Crawford      |2                  |\n",
      "|Cuth Harrison     |1                  |\n",
      "|Larry Perkins     |1                  |\n",
      "+------------------+-------------------+\n",
      "only showing top 10 rows\n",
      "\n"
     ]
    }
   ],
   "source": [
    "accidents.show(10, False)"
   ]
  },
  {
   "cell_type": "code",
   "execution_count": 42,
   "metadata": {},
   "outputs": [
    {
     "name": "stdout",
     "output_type": "stream",
     "text": [
      "+------------------+---------------+-------------------+-------------------+\n",
      "|       driver_name|number_of_races|number_of_accidents|accident_percentage|\n",
      "+------------------+---------------+-------------------+-------------------+\n",
      "|Hans-Joachim Stuck|             81|                 18|  22.22222222222222|\n",
      "|Vittorio Brambilla|             78|                 15| 19.230769230769234|\n",
      "|        James Hunt|             93|                 14| 15.053763440860216|\n",
      "| Patrick Depailler|             95|                 12| 12.631578947368421|\n",
      "|    Clay Regazzoni|            138|                 17| 12.318840579710146|\n",
      "|     Mike Hailwood|             51|                  6|  11.76470588235294|\n",
      "|     Jackie Oliver|             51|                  6|  11.76470588235294|\n",
      "|     Didier Pironi|             72|                  8|  11.11111111111111|\n",
      "| Gilles Villeneuve|             68|                  7| 10.294117647058822|\n",
      "| Vitantonio Liuzzi|             81|                  8|  9.876543209876543|\n",
      "+------------------+---------------+-------------------+-------------------+\n",
      "only showing top 10 rows\n",
      "\n"
     ]
    }
   ],
   "source": [
    "sqlc.sql(\"\"\"\n",
    "    SELECT driver_races.driver_name, number_of_races, number_of_accidents, (number_of_accidents / number_of_races * 100) AS accident_percentage\n",
    "    FROM driver_races, accidents\n",
    "    WHERE driver_races.driver_name == accidents.driver_name\n",
    "\"\"\") \\\n",
    "    .filter('number_of_races > 50') \\\n",
    "    .orderBy('accident_percentage', ascending = False) \\\n",
    "    .show(10)"
   ]
  },
  {
   "cell_type": "code",
   "execution_count": 43,
   "metadata": {},
   "outputs": [
    {
     "name": "stdout",
     "output_type": "stream",
     "text": [
      "+------------------+---------------+-------------------+-------------------+\n",
      "|       driver_name|number_of_races|number_of_accidents|accident_percentage|\n",
      "+------------------+---------------+-------------------+-------------------+\n",
      "|    Lewis Hamilton|            275|                  1|0.36363636363636365|\n",
      "|        Jean Alesi|            202|                  1|0.49504950495049505|\n",
      "|  Daniel Ricciardo|            197|                  1| 0.5076142131979695|\n",
      "|         Mika Salo|            111|                  1| 0.9009009009009009|\n",
      "|Rubens Barrichello|            326|                  3| 0.9202453987730062|\n",
      "|    Jos Verstappen|            107|                  1| 0.9345794392523363|\n",
      "|     Jenson Button|            309|                  3| 0.9708737864077669|\n",
      "|       Pedro Diniz|             99|                  1| 1.0101010101010102|\n",
      "|     Robert Kubica|             97|                  1| 1.0309278350515463|\n",
      "|     Ukyo Katayama|             97|                  1| 1.0309278350515463|\n",
      "+------------------+---------------+-------------------+-------------------+\n",
      "only showing top 10 rows\n",
      "\n"
     ]
    }
   ],
   "source": [
    "sqlc.sql(\"\"\"\n",
    "    SELECT driver_races.driver_name, number_of_races, number_of_accidents, (number_of_accidents / number_of_races * 100) AS accident_percentage\n",
    "    FROM driver_races, accidents\n",
    "    WHERE driver_races.driver_name == accidents.driver_name\n",
    "\"\"\") \\\n",
    "    .filter('number_of_races > 50') \\\n",
    "    .orderBy('accident_percentage', ascending = True) \\\n",
    "    .show(10)"
   ]
  },
  {
   "cell_type": "markdown",
   "metadata": {},
   "source": [
    "Here we can see a list of the drivers with the highest percentage of accidents and those with the lowest percentage. We made the choice to only consider drivers with over 100 Grand Prix entries, because otherwise the percentage was altered if the number of races is too small. \n",
    "\n",
    "Some of the bigger names in Formula 1 figure in the list of drivers with the smallest accident percentage, this is unsurprising. \n",
    "\n",
    "Also a key part of being a great F1 driver is being able to avoid collisions, or less sever accidents that may cause something like a puncture or a damaged front wing. So next up, we are going to be performing the same operations to find the drivers with the highest and percentage of collisions. "
   ]
  },
  {
   "cell_type": "code",
   "execution_count": 44,
   "metadata": {},
   "outputs": [],
   "source": [
    "collisions = sqlc.sql(\"\"\"\n",
    "    SELECT driver_name, count(*) AS number_of_collisions\n",
    "    FROM driver_finishes\n",
    "    WHERE status == 'Collision'\n",
    "    GROUP BY driver_name\n",
    "\"\"\")\n",
    "collisions.createOrReplaceTempView('collisions')"
   ]
  },
  {
   "cell_type": "code",
   "execution_count": 45,
   "metadata": {},
   "outputs": [
    {
     "name": "stdout",
     "output_type": "stream",
     "text": [
      "+--------------------+---------------+--------------------+--------------------+\n",
      "|         driver_name|number_of_races|number_of_collisions|collision_percentage|\n",
      "+--------------------+---------------+--------------------+--------------------+\n",
      "|    Pedro de la Rosa|            107|                  10|   9.345794392523365|\n",
      "|          Damon Hill|            122|                  11|    9.01639344262295|\n",
      "|        Adrian Sutil|            128|                  11|             8.59375|\n",
      "|        Eddie Irvine|            147|                  12|    8.16326530612245|\n",
      "|          Jean Alesi|            202|                  16|   7.920792079207921|\n",
      "|      Johnny Herbert|            165|                  12|  7.2727272727272725|\n",
      "|     Romain Grosjean|            181|                  13|    7.18232044198895|\n",
      "|       Olivier Panis|            158|                  11|   6.962025316455696|\n",
      "|Giancarlo Fisichella|            231|                  16|   6.926406926406926|\n",
      "|        Jarno Trulli|            256|                  16|                6.25|\n",
      "+--------------------+---------------+--------------------+--------------------+\n",
      "only showing top 10 rows\n",
      "\n"
     ]
    }
   ],
   "source": [
    "sqlc.sql(\"\"\"\n",
    "    SELECT driver_races.driver_name, number_of_races, number_of_collisions, (number_of_collisions / number_of_races * 100) AS collision_percentage\n",
    "    FROM driver_races, collisions\n",
    "    WHERE driver_races.driver_name == collisions.driver_name \n",
    "\"\"\") \\\n",
    "    .filter('number_of_races > 100') \\\n",
    "    .orderBy('collision_percentage', ascending = False) \\\n",
    "    .show(10)"
   ]
  },
  {
   "cell_type": "code",
   "execution_count": 46,
   "metadata": {},
   "outputs": [
    {
     "data": {
      "text/html": [
       "<div>\n",
       "<style scoped>\n",
       "    .dataframe tbody tr th:only-of-type {\n",
       "        vertical-align: middle;\n",
       "    }\n",
       "\n",
       "    .dataframe tbody tr th {\n",
       "        vertical-align: top;\n",
       "    }\n",
       "\n",
       "    .dataframe thead th {\n",
       "        text-align: right;\n",
       "    }\n",
       "</style>\n",
       "<table border=\"1\" class=\"dataframe\">\n",
       "  <thead>\n",
       "    <tr style=\"text-align: right;\">\n",
       "      <th></th>\n",
       "      <th>driver_name</th>\n",
       "      <th>number_of_races</th>\n",
       "      <th>number_of_collisions</th>\n",
       "      <th>collision_percentage</th>\n",
       "    </tr>\n",
       "  </thead>\n",
       "  <tbody>\n",
       "    <tr>\n",
       "      <th>0</th>\n",
       "      <td>John Watson</td>\n",
       "      <td>154</td>\n",
       "      <td>1</td>\n",
       "      <td>0.649351</td>\n",
       "    </tr>\n",
       "    <tr>\n",
       "      <th>1</th>\n",
       "      <td>Clay Regazzoni</td>\n",
       "      <td>138</td>\n",
       "      <td>1</td>\n",
       "      <td>0.724638</td>\n",
       "    </tr>\n",
       "    <tr>\n",
       "      <th>2</th>\n",
       "      <td>Jack Brabham</td>\n",
       "      <td>129</td>\n",
       "      <td>1</td>\n",
       "      <td>0.775194</td>\n",
       "    </tr>\n",
       "    <tr>\n",
       "      <th>3</th>\n",
       "      <td>Jacky Ickx</td>\n",
       "      <td>121</td>\n",
       "      <td>1</td>\n",
       "      <td>0.826446</td>\n",
       "    </tr>\n",
       "    <tr>\n",
       "      <th>4</th>\n",
       "      <td>Jochen Mass</td>\n",
       "      <td>114</td>\n",
       "      <td>1</td>\n",
       "      <td>0.877193</td>\n",
       "    </tr>\n",
       "    <tr>\n",
       "      <th>5</th>\n",
       "      <td>Denny Hulme</td>\n",
       "      <td>112</td>\n",
       "      <td>1</td>\n",
       "      <td>0.892857</td>\n",
       "    </tr>\n",
       "    <tr>\n",
       "      <th>6</th>\n",
       "      <td>Patrick Depailler</td>\n",
       "      <td>95</td>\n",
       "      <td>1</td>\n",
       "      <td>1.052632</td>\n",
       "    </tr>\n",
       "    <tr>\n",
       "      <th>7</th>\n",
       "      <td>Niki Lauda</td>\n",
       "      <td>174</td>\n",
       "      <td>2</td>\n",
       "      <td>1.149425</td>\n",
       "    </tr>\n",
       "    <tr>\n",
       "      <th>8</th>\n",
       "      <td>Valtteri Bottas</td>\n",
       "      <td>166</td>\n",
       "      <td>2</td>\n",
       "      <td>1.204819</td>\n",
       "    </tr>\n",
       "    <tr>\n",
       "      <th>9</th>\n",
       "      <td>Hans-Joachim Stuck</td>\n",
       "      <td>81</td>\n",
       "      <td>1</td>\n",
       "      <td>1.234568</td>\n",
       "    </tr>\n",
       "  </tbody>\n",
       "</table>\n",
       "</div>"
      ],
      "text/plain": [
       "          driver_name  number_of_races  number_of_collisions  \\\n",
       "0         John Watson              154                     1   \n",
       "1      Clay Regazzoni              138                     1   \n",
       "2        Jack Brabham              129                     1   \n",
       "3          Jacky Ickx              121                     1   \n",
       "4         Jochen Mass              114                     1   \n",
       "5         Denny Hulme              112                     1   \n",
       "6   Patrick Depailler               95                     1   \n",
       "7          Niki Lauda              174                     2   \n",
       "8     Valtteri Bottas              166                     2   \n",
       "9  Hans-Joachim Stuck               81                     1   \n",
       "\n",
       "   collision_percentage  \n",
       "0              0.649351  \n",
       "1              0.724638  \n",
       "2              0.775194  \n",
       "3              0.826446  \n",
       "4              0.877193  \n",
       "5              0.892857  \n",
       "6              1.052632  \n",
       "7              1.149425  \n",
       "8              1.204819  \n",
       "9              1.234568  "
      ]
     },
     "execution_count": 46,
     "metadata": {},
     "output_type": "execute_result"
    }
   ],
   "source": [
    "collisions_perc = sqlc.sql(\"\"\"\n",
    "    SELECT driver_races.driver_name, number_of_races, number_of_collisions, (number_of_collisions / number_of_races * 100) AS collision_percentage\n",
    "    FROM driver_races, collisions\n",
    "    WHERE driver_races.driver_name == collisions.driver_name \n",
    "\"\"\") \n",
    "\n",
    "collisions_perc \\\n",
    "    .filter('number_of_races > 50') \\\n",
    "    .orderBy('collision_percentage', ascending = True) \\\n",
    "    .toPandas() \\\n",
    "    .head(10)"
   ]
  },
  {
   "cell_type": "code",
   "execution_count": 47,
   "metadata": {},
   "outputs": [
    {
     "data": {
      "text/html": [
       "<div>\n",
       "<style scoped>\n",
       "    .dataframe tbody tr th:only-of-type {\n",
       "        vertical-align: middle;\n",
       "    }\n",
       "\n",
       "    .dataframe tbody tr th {\n",
       "        vertical-align: top;\n",
       "    }\n",
       "\n",
       "    .dataframe thead th {\n",
       "        text-align: right;\n",
       "    }\n",
       "</style>\n",
       "<table border=\"1\" class=\"dataframe\">\n",
       "  <thead>\n",
       "    <tr style=\"text-align: right;\">\n",
       "      <th></th>\n",
       "      <th>driver_name</th>\n",
       "      <th>number_of_races</th>\n",
       "      <th>number_of_collisions</th>\n",
       "      <th>collision_percentage</th>\n",
       "    </tr>\n",
       "  </thead>\n",
       "  <tbody>\n",
       "    <tr>\n",
       "      <th>0</th>\n",
       "      <td>Bruno Giacomelli</td>\n",
       "      <td>82</td>\n",
       "      <td>8</td>\n",
       "      <td>9.756098</td>\n",
       "    </tr>\n",
       "    <tr>\n",
       "      <th>1</th>\n",
       "      <td>Pedro de la Rosa</td>\n",
       "      <td>107</td>\n",
       "      <td>10</td>\n",
       "      <td>9.345794</td>\n",
       "    </tr>\n",
       "    <tr>\n",
       "      <th>2</th>\n",
       "      <td>Sébastien Buemi</td>\n",
       "      <td>55</td>\n",
       "      <td>5</td>\n",
       "      <td>9.090909</td>\n",
       "    </tr>\n",
       "    <tr>\n",
       "      <th>3</th>\n",
       "      <td>Damon Hill</td>\n",
       "      <td>122</td>\n",
       "      <td>11</td>\n",
       "      <td>9.016393</td>\n",
       "    </tr>\n",
       "    <tr>\n",
       "      <th>4</th>\n",
       "      <td>Alexander Wurz</td>\n",
       "      <td>69</td>\n",
       "      <td>6</td>\n",
       "      <td>8.695652</td>\n",
       "    </tr>\n",
       "    <tr>\n",
       "      <th>5</th>\n",
       "      <td>Adrian Sutil</td>\n",
       "      <td>128</td>\n",
       "      <td>11</td>\n",
       "      <td>8.593750</td>\n",
       "    </tr>\n",
       "    <tr>\n",
       "      <th>6</th>\n",
       "      <td>Gianni Morbidelli</td>\n",
       "      <td>70</td>\n",
       "      <td>6</td>\n",
       "      <td>8.571429</td>\n",
       "    </tr>\n",
       "    <tr>\n",
       "      <th>7</th>\n",
       "      <td>Eddie Irvine</td>\n",
       "      <td>147</td>\n",
       "      <td>12</td>\n",
       "      <td>8.163265</td>\n",
       "    </tr>\n",
       "    <tr>\n",
       "      <th>8</th>\n",
       "      <td>Pedro Diniz</td>\n",
       "      <td>99</td>\n",
       "      <td>8</td>\n",
       "      <td>8.080808</td>\n",
       "    </tr>\n",
       "    <tr>\n",
       "      <th>9</th>\n",
       "      <td>Aguri Suzuki</td>\n",
       "      <td>88</td>\n",
       "      <td>7</td>\n",
       "      <td>7.954545</td>\n",
       "    </tr>\n",
       "  </tbody>\n",
       "</table>\n",
       "</div>"
      ],
      "text/plain": [
       "         driver_name  number_of_races  number_of_collisions  \\\n",
       "0   Bruno Giacomelli               82                     8   \n",
       "1   Pedro de la Rosa              107                    10   \n",
       "2    Sébastien Buemi               55                     5   \n",
       "3         Damon Hill              122                    11   \n",
       "4     Alexander Wurz               69                     6   \n",
       "5       Adrian Sutil              128                    11   \n",
       "6  Gianni Morbidelli               70                     6   \n",
       "7       Eddie Irvine              147                    12   \n",
       "8        Pedro Diniz               99                     8   \n",
       "9       Aguri Suzuki               88                     7   \n",
       "\n",
       "   collision_percentage  \n",
       "0              9.756098  \n",
       "1              9.345794  \n",
       "2              9.090909  \n",
       "3              9.016393  \n",
       "4              8.695652  \n",
       "5              8.593750  \n",
       "6              8.571429  \n",
       "7              8.163265  \n",
       "8              8.080808  \n",
       "9              7.954545  "
      ]
     },
     "execution_count": 47,
     "metadata": {},
     "output_type": "execute_result"
    }
   ],
   "source": [
    "collisions_perc \\\n",
    "    .filter('number_of_races > 50') \\\n",
    "    .orderBy('collision_percentage', ascending = False) \\\n",
    "    .toPandas() \\\n",
    "    .head(10)"
   ]
  },
  {
   "cell_type": "markdown",
   "metadata": {},
   "source": [
    "## Driver performance\n",
    "\n",
    "We can now move on to looking at how drivers have performed over the years. \n",
    "\n",
    "### Qualifying \n",
    "\n",
    "The first thing we are going to look at is mean qualifying position, as it gives a good indication as to how the driver has fared over the years. There is an issue with Ayrton Senna, where he only features in 3 qualifying races where he was on pole position, which is why we are going to remove him from the qualifying comparison. For this particular analysis, we are going to focus solely on races after the 2006 season. This is when Formula 1 introduced the current format for qualifying, with Q1, Q2, and Q3. "
   ]
  },
  {
   "cell_type": "code",
   "execution_count": 48,
   "metadata": {},
   "outputs": [
    {
     "name": "stdout",
     "output_type": "stream",
     "text": [
      "+------------------+------------------+\n",
      "|driver_name       |mean_qual_position|\n",
      "+------------------+------------------+\n",
      "|Lewis Hamilton    |3.425             |\n",
      "|Nigel Mansell     |4.833             |\n",
      "|Sebastian Vettel  |5.372             |\n",
      "|Damon Hill        |5.373             |\n",
      "|Michael Schumacher|5.667             |\n",
      "|Gerhard Berger    |5.761             |\n",
      "|Valtteri Bottas   |5.819             |\n",
      "|Max Verstappen    |5.859             |\n",
      "|Juan Pablo Montoya|6.031             |\n",
      "|Mika Häkkinen     |6.048             |\n",
      "|Nico Rosberg      |6.835             |\n",
      "|Mark Webber       |7.317             |\n",
      "|Kimi Räikkönen    |7.365             |\n",
      "|Jean Alesi        |7.468             |\n",
      "|Charles Leclerc   |7.868             |\n",
      "|Fernando Alonso   |7.99              |\n",
      "|Ralf Schumacher   |8.262             |\n",
      "|Eddie Irvine      |8.266             |\n",
      "|Felipe Massa      |8.358             |\n",
      "|Lando Norris      |8.362             |\n",
      "+------------------+------------------+\n",
      "only showing top 20 rows\n",
      "\n"
     ]
    }
   ],
   "source": [
    "sqlc.sql(\"\"\"\n",
    "    SELECT concat(forename, ' ', surname) AS driver_name, round(mean(position), 3) AS mean_qual_position\n",
    "    FROM drivers, qualifying \n",
    "    WHERE drivers.driverId == qualifying.driverId\n",
    "    GROUP BY driver_name\n",
    "\"\"\") \\\n",
    "    .orderBy('mean_qual_position', ascending = True) \\\n",
    "    .filter('driver_name NOT LIKE \"Ayrton Senna\"') \\\n",
    "    .show(20, False)"
   ]
  },
  {
   "cell_type": "markdown",
   "metadata": {},
   "source": [
    "In terms of average qualifying position, Lewis Hamilton is head and shoulders above everyone else. He has a very good qualifying record, especially considering how many races he has done. It would also be interesting to try and find drivers who have won pole by the highest delta to second place."
   ]
  },
  {
   "cell_type": "code",
   "execution_count": 140,
   "metadata": {},
   "outputs": [
    {
     "name": "stdout",
     "output_type": "stream",
     "text": [
      "+---------+------+--------+-------------+------+--------+--------+--------+--------+----+\n",
      "|qualifyId|raceId|driverId|constructorId|number|position|      q1|      q2|      q3|year|\n",
      "+---------+------+--------+-------------+------+--------+--------+--------+--------+----+\n",
      "|        1|    18|       1|            1|    22|       1|1:26.572|1:25.187|1:26.714|2009|\n",
      "|        1|    18|       1|            1|    22|       1|1:26.572|1:25.187|1:26.714|2009|\n",
      "|        1|    18|       1|            1|    22|       1|1:26.572|1:25.187|1:26.714|2009|\n",
      "|        1|    18|       1|            1|    22|       1|1:26.572|1:25.187|1:26.714|2009|\n",
      "|        1|    18|       1|            1|    22|       1|1:26.572|1:25.187|1:26.714|2009|\n",
      "|        1|    18|       1|            1|    22|       1|1:26.572|1:25.187|1:26.714|2009|\n",
      "|        1|    18|       1|            1|    22|       1|1:26.572|1:25.187|1:26.714|2009|\n",
      "|        1|    18|       1|            1|    22|       1|1:26.572|1:25.187|1:26.714|2009|\n",
      "|        1|    18|       1|            1|    22|       1|1:26.572|1:25.187|1:26.714|2009|\n",
      "|        1|    18|       1|            1|    22|       1|1:26.572|1:25.187|1:26.714|2009|\n",
      "|        1|    18|       1|            1|    22|       1|1:26.572|1:25.187|1:26.714|2009|\n",
      "|        1|    18|       1|            1|    22|       1|1:26.572|1:25.187|1:26.714|2009|\n",
      "|        1|    18|       1|            1|    22|       1|1:26.572|1:25.187|1:26.714|2009|\n",
      "|        1|    18|       1|            1|    22|       1|1:26.572|1:25.187|1:26.714|2009|\n",
      "|        1|    18|       1|            1|    22|       1|1:26.572|1:25.187|1:26.714|2009|\n",
      "|        1|    18|       1|            1|    22|       1|1:26.572|1:25.187|1:26.714|2009|\n",
      "|        1|    18|       1|            1|    22|       1|1:26.572|1:25.187|1:26.714|2009|\n",
      "|        1|    18|       1|            1|    22|       1|1:26.572|1:25.187|1:26.714|2008|\n",
      "|        1|    18|       1|            1|    22|       1|1:26.572|1:25.187|1:26.714|2008|\n",
      "|        1|    18|       1|            1|    22|       1|1:26.572|1:25.187|1:26.714|2008|\n",
      "+---------+------+--------+-------------+------+--------+--------+--------+--------+----+\n",
      "only showing top 20 rows\n",
      "\n"
     ]
    }
   ],
   "source": [
    "sqlc.sql(\"\"\"\n",
    "    SELECT qualifying.*, races.year\n",
    "    FROM qualifying, races\n",
    "    WHERE position ==1 \n",
    "    OR position ==2\n",
    "    AND races.year >= 2005\n",
    "\"\"\").show()"
   ]
  },
  {
   "cell_type": "code",
   "execution_count": 153,
   "metadata": {},
   "outputs": [],
   "source": [
    "pole = sqlc.sql(\"\"\"\n",
    "    SELECT driverId as pole_driverId, q3 AS pole_time, qualifying.raceId AS raceId\n",
    "    FROM qualifying, races\n",
    "    WHERE position == 1\n",
    "    AND races.year >= 2006\n",
    "    AND qualifying.raceId == races.raceId\n",
    "\"\"\")\n",
    "pole.createOrReplaceTempView('pole')\n",
    "\n",
    "p2 = sqlc.sql(\"\"\"\n",
    "    SELECT driverId as p2_driverId, q3 as p2, qualifying.raceId AS raceId\n",
    "    FROM qualifying, races\n",
    "    WHERE position == 2\n",
    "    AND races.year >= 2006\n",
    "    AND qualifying.raceId == races.raceId\n",
    "\"\"\")\n",
    "p2.createOrReplaceTempView('p2')"
   ]
  },
  {
   "cell_type": "markdown",
   "metadata": {},
   "source": [
    "Now that we've created two tables that have the times for pole position and the times for p2, we can go ahead and join both tables together. "
   ]
  },
  {
   "cell_type": "code",
   "execution_count": 156,
   "metadata": {},
   "outputs": [
    {
     "name": "stdout",
     "output_type": "stream",
     "text": [
      "+-------------+---------+-----------+--------+\n",
      "|pole_driverId|pole_time|p2_driverId|      p2|\n",
      "+-------------+---------+-----------+--------+\n",
      "|           20| 1:38.481|          1|1:38.622|\n",
      "|           17| 1:39.957|         20|1:40.075|\n",
      "|          844| 1:31.628|          1|1:32.030|\n",
      "|           20| 1:37.555|          5|1:37.631|\n",
      "|            8| 1:19.599|         13|1:19.886|\n",
      "|            1| 1:12.458|         18|1:12.513|\n",
      "|            3| 1:32.330|         20|1:32.584|\n",
      "|           30| 1:31.431|         13|1:31.478|\n",
      "|           20| 1:36.338|         17|1:36.441|\n",
      "|            1| 1:31.678|         20|1:31.864|\n",
      "|           20| 1:22.275|          1|1:22.725|\n",
      "|            3| 1:40.480|          1|1:40.866|\n",
      "|            1| 1:27.760|        822|1:28.059|\n",
      "|           20| 1:10.240|          1|1:10.446|\n",
      "|           20| 1:24.178|          1|1:24.474|\n",
      "|            1| 1:21.135|          3|1:21.613|\n",
      "|            8| 1:12.178|         20|1:12.221|\n",
      "|           20| 1:25.283|         17|1:25.327|\n",
      "|            1| 1:40.593|        822|1:41.027|\n",
      "|            3| 1:35.402|        817|1:35.917|\n",
      "+-------------+---------+-----------+--------+\n",
      "only showing top 20 rows\n",
      "\n"
     ]
    }
   ],
   "source": [
    "pole_p2_table = sqlc.sql(\"\"\"\n",
    "    SELECT pole.pole_driverId, pole.pole_time, p2.p2_driverId, p2.p2\n",
    "    FROM pole, p2\n",
    "    WHERE pole.raceId == p2.raceId\n",
    "\"\"\")\n",
    "\n",
    "pole_p2_table.createOrReplaceTempView('pole_p2_table')\n",
    "\n",
    "pole_p2_table.show()"
   ]
  },
  {
   "cell_type": "markdown",
   "metadata": {},
   "source": [
    "It is difficult for us to calculate the time delta if we leave the time columns as such. since the delta is going to be in seconds and milliseconds, we can go ahead and remove the '1:' from those columns. This will leave us, for example, with 26.714 instead of 1:26.714, allowing us to subtract them in order to get the delta. "
   ]
  },
  {
   "cell_type": "code",
   "execution_count": 157,
   "metadata": {},
   "outputs": [
    {
     "name": "stdout",
     "output_type": "stream",
     "text": [
      "+-------------+---------+-----------+--------+----------+\n",
      "|pole_driverId|pole_time|p2_driverId|      p2|time_delta|\n",
      "+-------------+---------+-----------+--------+----------+\n",
      "|           20| 1:38.481|          1|1:38.622|     0.141|\n",
      "|           17| 1:39.957|         20|1:40.075|     0.118|\n",
      "|          844| 1:31.628|          1|1:32.030|     0.402|\n",
      "|           20| 1:37.555|          5|1:37.631|     0.076|\n",
      "|            8| 1:19.599|         13|1:19.886|     0.287|\n",
      "|            1| 1:12.458|         18|1:12.513|     0.055|\n",
      "|            3| 1:32.330|         20|1:32.584|     0.254|\n",
      "|           30| 1:31.431|         13|1:31.478|     0.047|\n",
      "|           20| 1:36.338|         17|1:36.441|     0.103|\n",
      "|            1| 1:31.678|         20|1:31.864|     0.186|\n",
      "|           20| 1:22.275|          1|1:22.725|      0.45|\n",
      "|            3| 1:40.480|          1|1:40.866|     0.386|\n",
      "|            1| 1:27.760|        822|1:28.059|     0.299|\n",
      "|           20| 1:10.240|          1|1:10.446|     0.206|\n",
      "|           20| 1:24.178|          1|1:24.474|     0.296|\n",
      "|            1| 1:21.135|          3|1:21.613|     0.478|\n",
      "|            8| 1:12.178|         20|1:12.221|     0.043|\n",
      "|           20| 1:25.283|         17|1:25.327|     0.044|\n",
      "|            1| 1:40.593|        822|1:41.027|     0.434|\n",
      "|            3| 1:35.402|        817|1:35.917|     0.515|\n",
      "+-------------+---------+-----------+--------+----------+\n",
      "only showing top 20 rows\n",
      "\n"
     ]
    }
   ],
   "source": [
    "time_delta = sqlc.sql(\"\"\"\n",
    "    SELECT *, (round(cast(replace(p2, '1:', '') AS DOUBLE) - cast(replace(pole_time, '1:', '') AS DOUBLE),3)) AS time_delta\n",
    "    FROM pole_p2_table\n",
    "\"\"\")\n",
    "\n",
    "time_delta.createOrReplaceTempView('time_delta')\n",
    "\n",
    "time_delta.show()"
   ]
  },
  {
   "cell_type": "code",
   "execution_count": 160,
   "metadata": {},
   "outputs": [
    {
     "name": "stdout",
     "output_type": "stream",
     "text": [
      "+--------------------+--------------+---------------+\n",
      "|         driver_name|avg_time_to_p2|number_of_poles|\n",
      "+--------------------+--------------+---------------+\n",
      "|     Nico Hülkenberg|         1.049|              1|\n",
      "|   Heikki Kovalainen|         0.505|              1|\n",
      "|        Nico Rosberg|         0.324|             30|\n",
      "|     Charles Leclerc|         0.299|              8|\n",
      "|        Lance Stroll|          0.29|              1|\n",
      "|        Jarno Trulli|         0.281|              1|\n",
      "|      Lewis Hamilton|         0.275|            100|\n",
      "|        Felipe Massa|         0.249|             16|\n",
      "|    Sebastian Vettel|         0.241|             57|\n",
      "|         Mark Webber|         0.229|             12|\n",
      "|       Jenson Button|          0.21|              6|\n",
      "|  Michael Schumacher|         0.188|              5|\n",
      "|     Fernando Alonso|         0.172|             14|\n",
      "|      Max Verstappen|         0.165|              8|\n",
      "|      Kimi Räikkönen|         0.149|             10|\n",
      "|    Daniel Ricciardo|         0.141|              3|\n",
      "|Giancarlo Fisichella|         0.116|              2|\n",
      "|     Valtteri Bottas|           0.1|             17|\n",
      "|  Rubens Barrichello|         0.092|              1|\n",
      "|       Robert Kubica|         0.027|              1|\n",
      "+--------------------+--------------+---------------+\n",
      "\n"
     ]
    }
   ],
   "source": [
    "sqlc.sql(\"\"\"\n",
    "    SELECT concat(drivers.forename, ' ', drivers.surname) AS driver_name, round(mean(time_delta.time_delta),3) AS avg_time_to_p2, count(*) AS number_of_poles\n",
    "    FROM drivers, time_delta\n",
    "    WHERE drivers.driverId == time_delta.pole_driverId\n",
    "    GROUP BY driver_name\n",
    "    ORDER BY avg_time_to_p2 DESC\n",
    "\"\"\").show()"
   ]
  },
  {
   "cell_type": "markdown",
   "metadata": {},
   "source": [
    "This data is slightly skewed, as we can see, drivers like Nico Hulkenberg benefit a lot from this table, since he has a single pole position by a very large margin. Therefore, we added a column showing the number ofpole positions during that time period, giving us a bit more context about the average time delta. Obviously, the one person who stands out as an amazing qualifyer is Lewis Hamilton, given the sheer number of poles that he has. Sebastian Vettel also has 57 poles to his name. A surprising entry is Nicor Rosberg, since he has 30 pole positions, and has a large time delta to second place."
   ]
  },
  {
   "cell_type": "markdown",
   "metadata": {},
   "source": [
    "#### What-if Lewis Hamilton was not in F1? \n",
    "\n",
    "It is no secret that Lewis Hamilton is considered as one of the greatest Formula 1 drivers in history, dominating almost every season since 2013. He is also the only driver to reach 100 wins, and the only driver to ever win in every season he's competed in F1. This raises the question, if we remove Lewis' 100 wins, who would have won these races. For the purpose of this hypothetical question, we are not going to consider that Lewis Hamilton's car is being driven by someone else, simply that it is not there. "
   ]
  },
  {
   "cell_type": "code",
   "execution_count": 161,
   "metadata": {},
   "outputs": [
    {
     "name": "stdout",
     "output_type": "stream",
     "text": [
      "+--------+---------------+------+----+--------+--------+----------+-----------+--------------------+\n",
      "|driverId|      driverRef|number|code|forename| surname|       dob|nationality|                 url|\n",
      "+--------+---------------+------+----+--------+--------+----------+-----------+--------------------+\n",
      "|       1|       hamilton|    44| HAM|   Lewis|Hamilton|1985-01-07|    British|http://en.wikiped...|\n",
      "|     708|duncan_hamilton|    \\N|  \\N|  Duncan|Hamilton|1920-04-30|    British|http://en.wikiped...|\n",
      "+--------+---------------+------+----+--------+--------+----------+-----------+--------------------+\n",
      "\n"
     ]
    }
   ],
   "source": [
    "sqlc.sql(\"\"\"\n",
    "    SELECT * \n",
    "    FROM drivers \n",
    "    WHERE surname LIKE 'Hamilton'\n",
    "\"\"\").show()"
   ]
  },
  {
   "cell_type": "code",
   "execution_count": 165,
   "metadata": {},
   "outputs": [
    {
     "name": "stdout",
     "output_type": "stream",
     "text": [
      "+--------+\n",
      "|count(1)|\n",
      "+--------+\n",
      "|      98|\n",
      "+--------+\n",
      "\n"
     ]
    }
   ],
   "source": [
    "sqlc.sql(\"\"\"\n",
    "    SELECT count(*)\n",
    "    FROM results\n",
    "    WHERE driverId == 1\n",
    "        AND position == 1\n",
    "\"\"\").show()"
   ]
  },
  {
   "cell_type": "markdown",
   "metadata": {},
   "source": [
    "We can see that the data only contains 98 of Lewis' 100 wins, meaning it is not completely up to date, we are still going to proceed. "
   ]
  },
  {
   "cell_type": "code",
   "execution_count": 195,
   "metadata": {},
   "outputs": [
    {
     "name": "stdout",
     "output_type": "stream",
     "text": [
      "+------------------+-----------------+\n",
      "|count_second_place|           driver|\n",
      "+------------------+-----------------+\n",
      "|                20|     Nico Rosberg|\n",
      "|                19|  Valtteri Bottas|\n",
      "|                16|   Max Verstappen|\n",
      "|                15| Sebastian Vettel|\n",
      "|                 7|   Kimi Räikkönen|\n",
      "|                 3|  Fernando Alonso|\n",
      "|                 3| Daniel Ricciardo|\n",
      "|                 3|    Nick Heidfeld|\n",
      "|                 2|     Sergio Pérez|\n",
      "|                 2|    Jenson Button|\n",
      "|                 2|     Felipe Massa|\n",
      "|                 1|       Timo Glock|\n",
      "|                 1|    Robert Kubica|\n",
      "|                 1|  Romain Grosjean|\n",
      "|                 1|Nelson Piquet Jr.|\n",
      "|                 1|      Mark Webber|\n",
      "|                 1|Heikki Kovalainen|\n",
      "+------------------+-----------------+\n",
      "\n"
     ]
    }
   ],
   "source": [
    "raceId_Ham_wins = sqlc.sql(\"\"\"\n",
    "    SELECT raceId\n",
    "    FROM results \n",
    "    WHERE driverId == 1 \n",
    "    AND position == 1\n",
    "\"\"\")\n",
    "raceId_Ham_wins.createOrReplaceTempView('raceId_Ham_wins')\n",
    "\n",
    "sqlc.sql(\"\"\"\n",
    "    SELECT count(*) AS count_second_place, concat(drivers.forename, ' ', drivers.surname) as driver\n",
    "    FROM results, raceId_ham_wins, drivers\n",
    "    WHERE results.raceId == raceId_Ham_wins.raceId\n",
    "        AND position == 2\n",
    "        AND drivers.driverId == results.driverId\n",
    "    GROUP BY driver\n",
    "    ORDER BY count_second_place DESC\n",
    "\"\"\").show()"
   ]
  },
  {
   "cell_type": "markdown",
   "metadata": {},
   "source": [
    "So here, we can see that in the very hypothetical scenario where Lewis Hamilton's car was not competing in a race weekend, Nico Rosberg would have had an additional 20 wins. What is interesting is that out of Lewis' 98 wins present here, in 39 of them, the second driver was in the other Mercedes competing in the race, first driven by Nico Rosberg, and then Valterri Bottas. This shows just how dominant Mercedes has been over the past seasons.  "
   ]
  }
 ],
 "metadata": {
  "kernelspec": {
   "display_name": "Python 3",
   "language": "python",
   "name": "python3"
  },
  "language_info": {
   "codemirror_mode": {
    "name": "ipython",
    "version": 3
   },
   "file_extension": ".py",
   "mimetype": "text/x-python",
   "name": "python",
   "nbconvert_exporter": "python",
   "pygments_lexer": "ipython3",
   "version": "3.8.10"
  }
 },
 "nbformat": 4,
 "nbformat_minor": 4
}
